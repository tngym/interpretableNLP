{
  "nbformat": 4,
  "nbformat_minor": 0,
  "metadata": {
    "colab": {
      "name": "20200515node.ipynb",
      "provenance": [],
      "collapsed_sections": [],
      "authorship_tag": "ABX9TyPiEh/Pabke+V+xvR/fi9oM"
    },
    "kernelspec": {
      "name": "python3",
      "display_name": "Python 3"
    },
    "accelerator": "GPU"
  },
  "cells": [
    {
      "cell_type": "code",
      "metadata": {
        "id": "7qxYkp4bizQI",
        "colab_type": "code",
        "colab": {}
      },
      "source": [
        "import numpy as np\n",
        "from sklearn.datasets import load_iris"
      ],
      "execution_count": 0,
      "outputs": []
    },
    {
      "cell_type": "code",
      "metadata": {
        "id": "TPiMbIfkkQ10",
        "colab_type": "code",
        "outputId": "9a4e67a3-648a-42f0-bbc6-a0e809ac7301",
        "colab": {
          "base_uri": "https://localhost:8080/",
          "height": 668
        }
      },
      "source": [
        "!wget https://github.com/Qwicen/node/archive/master.zip\n",
        "!mkdir node\n",
        "!mv master.zip node\n",
        "!unzip node/master.zip"
      ],
      "execution_count": 0,
      "outputs": [
        {
          "output_type": "stream",
          "text": [
            "--2020-04-30 10:21:14--  https://github.com/Qwicen/node/archive/master.zip\n",
            "Resolving github.com (github.com)... 140.82.118.3\n",
            "Connecting to github.com (github.com)|140.82.118.3|:443... connected.\n",
            "HTTP request sent, awaiting response... 302 Found\n",
            "Location: https://codeload.github.com/Qwicen/node/zip/master [following]\n",
            "--2020-04-30 10:21:14--  https://codeload.github.com/Qwicen/node/zip/master\n",
            "Resolving codeload.github.com (codeload.github.com)... 140.82.112.10\n",
            "Connecting to codeload.github.com (codeload.github.com)|140.82.112.10|:443... connected.\n",
            "HTTP request sent, awaiting response... 200 OK\n",
            "Length: unspecified [application/zip]\n",
            "Saving to: ‘master.zip’\n",
            "\n",
            "master.zip              [  <=>               ] 239.72K   732KB/s    in 0.3s    \n",
            "\n",
            "2020-04-30 10:21:15 (732 KB/s) - ‘master.zip’ saved [245473]\n",
            "\n",
            "Archive:  node/master.zip\n",
            "3bae6a8a63f0205683270b6d566d9cfa659403e4\n",
            "   creating: node-master/\n",
            "  inflating: node-master/.gitignore  \n",
            "  inflating: node-master/LICENSE.md  \n",
            "  inflating: node-master/README.md   \n",
            "   creating: node-master/images/\n",
            "  inflating: node-master/images/densetree.png  \n",
            "   creating: node-master/lib/\n",
            "  inflating: node-master/lib/__init__.py  \n",
            "  inflating: node-master/lib/arch.py  \n",
            "  inflating: node-master/lib/data.py  \n",
            "  inflating: node-master/lib/nn_utils.py  \n",
            "  inflating: node-master/lib/odst.py  \n",
            "  inflating: node-master/lib/trainer.py  \n",
            "  inflating: node-master/lib/utils.py  \n",
            "   creating: node-master/notebooks/\n",
            "  inflating: node-master/notebooks/epsilon_node_multigpu.ipynb  \n",
            "  inflating: node-master/notebooks/year_node_8layers.ipynb  \n",
            "  inflating: node-master/notebooks/year_node_shallow.ipynb  \n",
            "  inflating: node-master/requirements.txt  \n"
          ],
          "name": "stdout"
        }
      ]
    },
    {
      "cell_type": "code",
      "metadata": {
        "id": "jVJZuKHQkrKR",
        "colab_type": "code",
        "outputId": "66ce7800-02ba-44c1-fa83-da76861ed8dc",
        "colab": {
          "base_uri": "https://localhost:8080/",
          "height": 1000
        }
      },
      "source": [
        "!pip install -r node-master/requirements.txt"
      ],
      "execution_count": 0,
      "outputs": [
        {
          "output_type": "stream",
          "text": [
            "Collecting https://github.com/facebookresearch/qhoptim/archive/master.zip (from -r node-master/requirements.txt (line 14))\n",
            "\u001b[?25l  Downloading https://github.com/facebookresearch/qhoptim/archive/master.zip\n",
            "\u001b[K     / 9.4MB 1.2MB/s\n",
            "\u001b[?25h  Installing build dependencies ... \u001b[?25l\u001b[?25hdone\n",
            "  Getting requirements to build wheel ... \u001b[?25l\u001b[?25hdone\n",
            "    Preparing wheel metadata ... \u001b[?25l\u001b[?25hdone\n",
            "Requirement already satisfied: torch>=1.1.0 in /usr/local/lib/python3.6/dist-packages (from -r node-master/requirements.txt (line 1)) (1.5.0+cu101)\n",
            "Requirement already satisfied: numpy>=0.13 in /usr/local/lib/python3.6/dist-packages (from -r node-master/requirements.txt (line 2)) (1.18.3)\n",
            "Requirement already satisfied: scipy>=1.2.0 in /usr/local/lib/python3.6/dist-packages (from -r node-master/requirements.txt (line 3)) (1.4.1)\n",
            "Requirement already satisfied: scikit-learn>=0.17 in /usr/local/lib/python3.6/dist-packages (from -r node-master/requirements.txt (line 4)) (0.22.2.post1)\n",
            "Collecting catboost==0.12.2\n",
            "\u001b[?25l  Downloading https://files.pythonhosted.org/packages/98/03/777a0e1c12571a7f3320a4fa6d5f123dba2dd7c0bca34f4f698a6396eb48/catboost-0.12.2-cp36-none-manylinux1_x86_64.whl (55.5MB)\n",
            "\u001b[K     |████████████████████████████████| 55.5MB 50kB/s \n",
            "\u001b[?25hCollecting xgboost==0.81\n",
            "\u001b[?25l  Downloading https://files.pythonhosted.org/packages/54/21/8b2ec99862903a6d3aed62ce156d21d114b8666e669c46d9e54041df9496/xgboost-0.81-py2.py3-none-manylinux1_x86_64.whl (16.6MB)\n",
            "\u001b[K     |████████████████████████████████| 16.6MB 214kB/s \n",
            "\u001b[?25hRequirement already satisfied: matplotlib in /usr/local/lib/python3.6/dist-packages (from -r node-master/requirements.txt (line 7)) (3.2.1)\n",
            "Requirement already satisfied: tqdm in /usr/local/lib/python3.6/dist-packages (from -r node-master/requirements.txt (line 8)) (4.38.0)\n",
            "Collecting tensorboardX\n",
            "\u001b[?25l  Downloading https://files.pythonhosted.org/packages/35/f1/5843425495765c8c2dd0784a851a93ef204d314fc87bcc2bbb9f662a3ad1/tensorboardX-2.0-py2.py3-none-any.whl (195kB)\n",
            "\u001b[K     |████████████████████████████████| 204kB 41.4MB/s \n",
            "\u001b[?25hRequirement already satisfied: pandas in /usr/local/lib/python3.6/dist-packages (from -r node-master/requirements.txt (line 10)) (1.0.3)\n",
            "Requirement already satisfied: prefetch_generator in /usr/local/lib/python3.6/dist-packages (from -r node-master/requirements.txt (line 11)) (1.0.1)\n",
            "Requirement already satisfied: requests in /usr/local/lib/python3.6/dist-packages (from -r node-master/requirements.txt (line 12)) (2.21.0)\n",
            "Collecting category_encoders\n",
            "\u001b[?25l  Downloading https://files.pythonhosted.org/packages/44/57/fcef41c248701ee62e8325026b90c432adea35555cbc870aff9cfba23727/category_encoders-2.2.2-py2.py3-none-any.whl (80kB)\n",
            "\u001b[K     |████████████████████████████████| 81kB 9.6MB/s \n",
            "\u001b[?25hRequirement already satisfied: future in /usr/local/lib/python3.6/dist-packages (from torch>=1.1.0->-r node-master/requirements.txt (line 1)) (0.16.0)\n",
            "Requirement already satisfied: joblib>=0.11 in /usr/local/lib/python3.6/dist-packages (from scikit-learn>=0.17->-r node-master/requirements.txt (line 4)) (0.14.1)\n",
            "Collecting enum34\n",
            "  Downloading https://files.pythonhosted.org/packages/63/f6/ccb1c83687756aeabbf3ca0f213508fcfb03883ff200d201b3a4c60cedcc/enum34-1.1.10-py3-none-any.whl\n",
            "Requirement already satisfied: six in /usr/local/lib/python3.6/dist-packages (from catboost==0.12.2->-r node-master/requirements.txt (line 5)) (1.12.0)\n",
            "Requirement already satisfied: kiwisolver>=1.0.1 in /usr/local/lib/python3.6/dist-packages (from matplotlib->-r node-master/requirements.txt (line 7)) (1.2.0)\n",
            "Requirement already satisfied: cycler>=0.10 in /usr/local/lib/python3.6/dist-packages (from matplotlib->-r node-master/requirements.txt (line 7)) (0.10.0)\n",
            "Requirement already satisfied: pyparsing!=2.0.4,!=2.1.2,!=2.1.6,>=2.0.1 in /usr/local/lib/python3.6/dist-packages (from matplotlib->-r node-master/requirements.txt (line 7)) (2.4.7)\n",
            "Requirement already satisfied: python-dateutil>=2.1 in /usr/local/lib/python3.6/dist-packages (from matplotlib->-r node-master/requirements.txt (line 7)) (2.8.1)\n",
            "Requirement already satisfied: protobuf>=3.8.0 in /usr/local/lib/python3.6/dist-packages (from tensorboardX->-r node-master/requirements.txt (line 9)) (3.10.0)\n",
            "Requirement already satisfied: pytz>=2017.2 in /usr/local/lib/python3.6/dist-packages (from pandas->-r node-master/requirements.txt (line 10)) (2018.9)\n",
            "Requirement already satisfied: chardet<3.1.0,>=3.0.2 in /usr/local/lib/python3.6/dist-packages (from requests->-r node-master/requirements.txt (line 12)) (3.0.4)\n",
            "Requirement already satisfied: idna<2.9,>=2.5 in /usr/local/lib/python3.6/dist-packages (from requests->-r node-master/requirements.txt (line 12)) (2.8)\n",
            "Requirement already satisfied: urllib3<1.25,>=1.21.1 in /usr/local/lib/python3.6/dist-packages (from requests->-r node-master/requirements.txt (line 12)) (1.24.3)\n",
            "Requirement already satisfied: certifi>=2017.4.17 in /usr/local/lib/python3.6/dist-packages (from requests->-r node-master/requirements.txt (line 12)) (2020.4.5.1)\n",
            "Requirement already satisfied: patsy>=0.5.1 in /usr/local/lib/python3.6/dist-packages (from category_encoders->-r node-master/requirements.txt (line 13)) (0.5.1)\n",
            "Requirement already satisfied: statsmodels>=0.9.0 in /usr/local/lib/python3.6/dist-packages (from category_encoders->-r node-master/requirements.txt (line 13)) (0.10.2)\n",
            "Requirement already satisfied: setuptools in /usr/local/lib/python3.6/dist-packages (from protobuf>=3.8.0->tensorboardX->-r node-master/requirements.txt (line 9)) (46.1.3)\n",
            "Building wheels for collected packages: qhoptim\n",
            "  Building wheel for qhoptim (PEP 517) ... \u001b[?25l\u001b[?25hdone\n",
            "  Created wheel for qhoptim: filename=qhoptim-1.1.0-cp36-none-any.whl size=20328 sha256=ea9d5c5f0dc32bea2d2d559d2e5ebfd5053041b2ae87a7c4327b34502cd940a0\n",
            "  Stored in directory: /tmp/pip-ephem-wheel-cache-maijyudx/wheels/63/53/2b/3b721f6feacd39063f6300e890b7cf633910a33e7b996edbd3\n",
            "Successfully built qhoptim\n",
            "Installing collected packages: enum34, catboost, xgboost, tensorboardX, category-encoders, qhoptim\n",
            "  Found existing installation: xgboost 0.90\n",
            "    Uninstalling xgboost-0.90:\n",
            "      Successfully uninstalled xgboost-0.90\n",
            "Successfully installed catboost-0.12.2 category-encoders-2.2.2 enum34-1.1.10 qhoptim-1.1.0 tensorboardX-2.0 xgboost-0.81\n"
          ],
          "name": "stdout"
        },
        {
          "output_type": "display_data",
          "data": {
            "application/vnd.colab-display-data+json": {
              "pip_warning": {
                "packages": [
                  "enum"
                ]
              }
            }
          },
          "metadata": {
            "tags": []
          }
        }
      ]
    },
    {
      "cell_type": "code",
      "metadata": {
        "id": "wNl7mcKDlOPV",
        "colab_type": "code",
        "colab": {}
      },
      "source": [
        "import sys\n",
        "sys.path.append(\"node-master\")"
      ],
      "execution_count": 0,
      "outputs": []
    },
    {
      "cell_type": "code",
      "metadata": {
        "id": "3KKkPJ5ilU-A",
        "colab_type": "code",
        "colab": {}
      },
      "source": [
        "import lib\n",
        "\n",
        "# Data 読み込みでは sklearn.datasets.load_svmlight_file を使っているらしい\n",
        "# dump_svmlight_file というのもいるらしい\n",
        "# https://scikit-learn.org/stable/modules/generated/sklearn.datasets.load_svmlight_file.html"
      ],
      "execution_count": 0,
      "outputs": []
    },
    {
      "cell_type": "code",
      "metadata": {
        "id": "oLAlpdXFl1B7",
        "colab_type": "code",
        "outputId": "61edee59-bcf3-4b42-885e-52a27a9760a2",
        "colab": {
          "base_uri": "https://localhost:8080/",
          "height": 34
        }
      },
      "source": [
        "%env CUDA_VISIBLE_DEVICES=0\n",
        "\n",
        "import os, sys\n",
        "import time\n",
        "import numpy as np\n",
        "import matplotlib.pyplot as plt\n",
        "%matplotlib inline\n",
        "import lib\n",
        "import torch, torch.nn as nn\n",
        "import torch.nn.functional as F"
      ],
      "execution_count": 0,
      "outputs": [
        {
          "output_type": "stream",
          "text": [
            "env: CUDA_VISIBLE_DEVICES=0\n"
          ],
          "name": "stdout"
        }
      ]
    },
    {
      "cell_type": "code",
      "metadata": {
        "id": "iZrpwoPCmccl",
        "colab_type": "code",
        "colab": {}
      },
      "source": [
        "assert torch.cuda.is_available()\n",
        "device=\"cuda\""
      ],
      "execution_count": 0,
      "outputs": []
    },
    {
      "cell_type": "code",
      "metadata": {
        "id": "BEQxXe_snhCv",
        "colab_type": "code",
        "outputId": "b9890d8f-c1af-4d1b-a7b0-97d35d2d717a",
        "colab": {
          "base_uri": "https://localhost:8080/",
          "height": 34
        }
      },
      "source": [
        "experiment_name = 'year_node_shallow'\n",
        "experiment_name = '{}_{}.{:0>2d}.{:0>2d}_{:0>2d}:{:0>2d}'.format(experiment_name, *time.gmtime()[:5])\n",
        "print(\"experiment:\", experiment_name)"
      ],
      "execution_count": 0,
      "outputs": [
        {
          "output_type": "stream",
          "text": [
            "experiment: year_node_shallow_2020.04.30_11:14\n"
          ],
          "name": "stdout"
        }
      ]
    },
    {
      "cell_type": "code",
      "metadata": {
        "id": "biGX1dZ3nvbd",
        "colab_type": "code",
        "colab": {}
      },
      "source": [
        "from sklearn.utils import shuffle\n",
        "x, y = shuffle(x, y)"
      ],
      "execution_count": 0,
      "outputs": []
    },
    {
      "cell_type": "code",
      "metadata": {
        "id": "Yj4dRgWVn6h2",
        "colab_type": "code",
        "colab": {}
      },
      "source": [
        "x = x.astype(np.float32)\n",
        "y = y.astype(np.int)\n",
        "x_tr, x_val, x_ts = x[:120], x[120:135], x[135:]\n",
        "y_tr, y_val, y_ts = y[:120], y[120:135], y[135:]"
      ],
      "execution_count": 0,
      "outputs": []
    },
    {
      "cell_type": "code",
      "metadata": {
        "id": "25W-VWoZnjSN",
        "colab_type": "code",
        "colab": {}
      },
      "source": [
        "class TempData:\n",
        "  X_train = x_tr\n",
        "  X_valid = x_val\n",
        "  X_test = x_ts\n",
        "  y_train = y_tr\n",
        "  y_valid = y_val\n",
        "  y_test = y_ts\n",
        "data = TempData()"
      ],
      "execution_count": 0,
      "outputs": []
    },
    {
      "cell_type": "code",
      "metadata": {
        "id": "DEvX1Rc8oXc3",
        "colab_type": "code",
        "outputId": "5469788b-3efa-46f6-dfb1-16dc3081ed31",
        "colab": {
          "base_uri": "https://localhost:8080/",
          "height": 72
        }
      },
      "source": [
        "# epsilon_node_multigpu.ipynb を参照\n",
        "\n",
        "num_classes = len(set(data.y_train))\n",
        "\n",
        "model = nn.Sequential(\n",
        "    # depth は 6 で固定されている\n",
        "    lib.DenseBlock(in_features, layer_dim=1024, num_layers=2, tree_dim=num_classes+1, depth=6, flatten_output=False,\n",
        "                   choice_function=lib.entmax15, bin_function=lib.entmoid15),\n",
        "    lib.Lambda(lambda x: x.mean(dim=-2)),   # mean over trees, 4クラス分出力されるが最後の要素は無視すればOK\n",
        ").to(device)\n",
        "\n",
        "with torch.no_grad():\n",
        "    # ここで initialize が走る（__call__ で呼ばれている）\n",
        "    # たくさん渡したほうが良い\n",
        "    res = model(torch.as_tensor(data.X_train[:2000], device=device))\n",
        "    # trigger data-aware init\n",
        "    \n",
        "if torch.cuda.device_count() > 1:\n",
        "    model = nn.DataParallel(model)"
      ],
      "execution_count": 0,
      "outputs": [
        {
          "output_type": "stream",
          "text": [
            "node-master/lib/odst.py:113: UserWarning: Data-aware initialization is performed on less than 1000 data points. This may cause instability.To avoid potential problems, run this model on a data batch with at least 1000 data samples.You can do so manually before training. Use with torch.no_grad() for memory efficiency.\n",
            "  warn(\"Data-aware initialization is performed on less than 1000 data points. This may cause instability.\"\n"
          ],
          "name": "stderr"
        }
      ]
    },
    {
      "cell_type": "code",
      "metadata": {
        "id": "J2lUIwBgo1pr",
        "colab_type": "code",
        "colab": {}
      },
      "source": [
        "from qhoptim.pyt import QHAdam\n",
        "optimizer_params = { 'nus':(0.7, 1.0), 'betas':(0.95, 0.998) }  # おそらく original [Ma & Yarats, 2018]"
      ],
      "execution_count": 0,
      "outputs": []
    },
    {
      "cell_type": "code",
      "metadata": {
        "id": "MU9yiLAypC63",
        "colab_type": "code",
        "colab": {}
      },
      "source": [
        "trainer = lib.Trainer(\n",
        "    model=model, loss_function=F.cross_entropy,\n",
        "    experiment_name=experiment_name,\n",
        "    warm_start=False,\n",
        "    Optimizer=QHAdam,\n",
        "    optimizer_params=optimizer_params,\n",
        "    verbose=True,\n",
        "    n_last_checkpoints=5  # checkpoint の ensemble を取る．Izmailov et al., 2018\n",
        ")"
      ],
      "execution_count": 0,
      "outputs": []
    },
    {
      "cell_type": "code",
      "metadata": {
        "id": "7QQ3Jez2p3Jn",
        "colab_type": "code",
        "outputId": "52cd7559-5d45-4462-c546-5ea2521deaeb",
        "colab": {
          "base_uri": "https://localhost:8080/",
          "height": 34
        }
      },
      "source": [
        "# ./logs/{experiment_name} にログが出される\n",
        "experiment_name"
      ],
      "execution_count": 0,
      "outputs": [
        {
          "output_type": "execute_result",
          "data": {
            "text/plain": [
              "'year_node_shallow_2020.04.30_11:14'"
            ]
          },
          "metadata": {
            "tags": []
          },
          "execution_count": 106
        }
      ]
    },
    {
      "cell_type": "code",
      "metadata": {
        "id": "rgybanYiq6Db",
        "colab_type": "code",
        "colab": {}
      },
      "source": [
        "from tqdm import tqdm\n",
        "from IPython.display import clear_output\n",
        "loss_history, err_history = [], []\n",
        "best_val_err = 1.0\n",
        "best_step = 0\n",
        "early_stopping_rounds = 10_000\n",
        "report_frequency = 100"
      ],
      "execution_count": 0,
      "outputs": []
    },
    {
      "cell_type": "code",
      "metadata": {
        "id": "FWku6N7drJRq",
        "colab_type": "code",
        "outputId": "c81d4629-429b-47b7-a7c0-851f124f6fd5",
        "colab": {
          "base_uri": "https://localhost:8080/",
          "height": 414
        }
      },
      "source": [
        "bs = 128  # QHAdam のパラメタは変えずに batch size だけ勝手に変えた\n",
        "for batch in lib.iterate_minibatches(data.X_train, data.y_train, batch_size=bs, \n",
        "                                     shuffle=True, epochs=10000):\n",
        "    metrics = trainer.train_on_batch(*batch, device=device)\n",
        "    \n",
        "    loss_history.append(metrics['loss'])\n",
        "\n",
        "    if trainer.step % report_frequency == 0:\n",
        "        trainer.save_checkpoint()\n",
        "        trainer.average_checkpoints(out_tag='avg')\n",
        "        trainer.load_checkpoint(tag='avg')\n",
        "        err = trainer.evaluate_classification_error(\n",
        "            data.X_valid, data.y_valid, device=device, batch_size=bs)\n",
        "        \n",
        "        if err < best_val_err:\n",
        "            best_val_err = err\n",
        "            best_step = trainer.step\n",
        "            trainer.save_checkpoint(tag='best')\n",
        "        \n",
        "        err_history.append(err)\n",
        "        trainer.load_checkpoint()  # last\n",
        "        trainer.remove_old_temp_checkpoints()\n",
        "            \n",
        "        clear_output(True)\n",
        "        plt.figure(figsize=[12, 6])\n",
        "        plt.subplot(1, 2, 1)\n",
        "        plt.plot(loss_history)\n",
        "        plt.grid()\n",
        "        plt.subplot(1,2,2)\n",
        "        plt.plot(err_history)\n",
        "        plt.grid()\n",
        "        plt.show()\n",
        "        print(\"Loss %.5f\" % (metrics['loss']))\n",
        "        print(\"Val Error Rate: %0.5f\" % (err))\n",
        "        \n",
        "    if trainer.step > best_step + early_stopping_rounds:\n",
        "        print('BREAK. There is no improvment for {} steps'.format(early_stopping_rounds))\n",
        "        print(\"Best step: \", best_step)\n",
        "        print(\"Best Val Error Rate: %0.5f\" % (best_val_err))\n",
        "        break"
      ],
      "execution_count": 0,
      "outputs": [
        {
          "output_type": "display_data",
          "data": {
            "image/png": "[encoded data removed]",
            "text/plain": [
              "<Figure size 864x432 with 2 Axes>"
            ]
          },
          "metadata": {
            "tags": [],
            "needs_background": "light"
          }
        },
        {
          "output_type": "stream",
          "text": [
            "Loss 0.00063\n",
            "Val Error Rate: 0.06667\n"
          ],
          "name": "stdout"
        }
      ]
    },
    {
      "cell_type": "code",
      "metadata": {
        "id": "s5mRCPHTv7fs",
        "colab_type": "code",
        "outputId": "046ad464-8683-4f59-8546-c2eb132928be",
        "colab": {
          "base_uri": "https://localhost:8080/",
          "height": 246
        }
      },
      "source": [
        "trainer.load_checkpoint(tag='best')\n",
        "error_rate = trainer.evaluate_classification_error(data.X_test, data.y_test, device=device, batch_size=1024)\n",
        "print('Best step: ', trainer.step)\n",
        "print(\"Test Error rate: %0.5f\" % (error_rate))\n",
        "trainer.load_checkpoint()"
      ],
      "execution_count": 0,
      "outputs": [
        {
          "output_type": "stream",
          "text": [
            "Loaded logs/year_node_shallow_2020.04.30_11:14/checkpoint_best.pth\n",
            "Best step:  200\n",
            "Test Error rate: 0.06667\n",
            "Loaded logs/year_node_shallow_2020.04.30_11:14/checkpoint_temp_10100.pth\n"
          ],
          "name": "stdout"
        },
        {
          "output_type": "execute_result",
          "data": {
            "text/plain": [
              "Trainer(\n",
              "  (model): Sequential(\n",
              "    (0): DenseBlock(\n",
              "      (0): ODST(in_features=4, num_trees=1024, depth=6, tree_dim=4, flatten_output=True)\n",
              "      (1): ODST(in_features=4100, num_trees=1024, depth=6, tree_dim=4, flatten_output=True)\n",
              "    )\n",
              "    (1): Lambda()\n",
              "  )\n",
              ")"
            ]
          },
          "metadata": {
            "tags": []
          },
          "execution_count": 110
        }
      ]
    },
    {
      "cell_type": "code",
      "metadata": {
        "id": "p8pMoJLAwKXi",
        "colab_type": "code",
        "outputId": "0c8a9d7f-b9e6-4380-fa86-e12bfd533e38",
        "colab": {
          "base_uri": "https://localhost:8080/",
          "height": 298
        }
      },
      "source": [
        "trainer.model(torch.Tensor(data.X_test).to(\"cuda\"))  # class 数 + 1 出力されている"
      ],
      "execution_count": 0,
      "outputs": [
        {
          "output_type": "execute_result",
          "data": {
            "text/plain": [
              "tensor([[-4.3362,  6.2049, -3.0619, -4.7145],\n",
              "        [-4.5478, -1.1261,  4.5994, -4.6821],\n",
              "        [-4.2089,  6.2117, -3.4270, -4.6649],\n",
              "        [-4.4605, -3.8349,  6.4631, -4.5350],\n",
              "        [ 5.9863, -4.3554, -4.6127, -4.6500],\n",
              "        [-4.4676, -3.6308,  6.3579, -4.5531],\n",
              "        [-4.4918, -3.7272,  6.3886, -4.5769],\n",
              "        [-4.4758, -3.9079,  6.4684, -4.5530],\n",
              "        [-4.4849, -2.9596,  5.9197, -4.6004],\n",
              "        [-4.3534, -3.6422,  6.2689, -4.4229],\n",
              "        [ 6.0878, -4.4479, -4.6719, -4.7246],\n",
              "        [-4.2174,  6.2042, -3.4125, -4.6578],\n",
              "        [ 5.9647, -4.3422, -4.5947, -4.6304],\n",
              "        [ 5.9992, -4.3666, -4.6233, -4.6612],\n",
              "        [-4.5127, -2.5137,  5.7806, -4.6049]], device='cuda:0',\n",
              "       grad_fn=<MeanBackward1>)"
            ]
          },
          "metadata": {
            "tags": []
          },
          "execution_count": 115
        }
      ]
    },
    {
      "cell_type": "code",
      "metadata": {
        "id": "YysmqKyDDyAI",
        "colab_type": "code",
        "outputId": "719e7199-a907-41f9-a728-248239c5dde6",
        "colab": {
          "base_uri": "https://localhost:8080/",
          "height": 34
        }
      },
      "source": [
        "data.y_test"
      ],
      "execution_count": 0,
      "outputs": [
        {
          "output_type": "execute_result",
          "data": {
            "text/plain": [
              "array([1, 1, 1, 2, 0, 2, 2, 2, 2, 2, 0, 1, 0, 0, 2])"
            ]
          },
          "metadata": {
            "tags": []
          },
          "execution_count": 116
        }
      ]
    },
    {
      "cell_type": "code",
      "metadata": {
        "id": "8ksZnk-sEAP3",
        "colab_type": "code",
        "colab": {}
      },
      "source": [
        ""
      ],
      "execution_count": 0,
      "outputs": []
    }
  ]
}