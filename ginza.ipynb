{
  "nbformat": 4,
  "nbformat_minor": 0,
  "metadata": {
    "colab": {
      "name": "ginza.ipynb",
      "provenance": [],
      "collapsed_sections": [],
      "authorship_tag": "ABX9TyNU/Sh7CPMo3BixFyPpS2Io"
    },
    "kernelspec": {
      "name": "python3",
      "display_name": "Python 3"
    }
  },
  "cells": [
    {
      "cell_type": "code",
      "metadata": {
        "id": "r6wJycgdMhz0",
        "colab_type": "code",
        "colab": {}
      },
      "source": [
        "# !pip install -U ginza\n",
        "# import pkg_resources, imp\n",
        "# imp.reload(pkg_resources)"
      ],
      "execution_count": 0,
      "outputs": []
    },
    {
      "cell_type": "code",
      "metadata": {
        "id": "who72zgQNPM2",
        "colab_type": "code",
        "outputId": "0ffc9b5b-b088-4654-ced3-120369aa2b0c",
        "colab": {
          "base_uri": "https://localhost:8080/",
          "height": 187
        }
      },
      "source": [
        "import spacy\n",
        "nlp = spacy.load('ja_ginza')\n",
        "doc = nlp('銀座でランチをご一緒しましょう。')\n",
        "for sent in doc.sents:\n",
        "    for token in sent:\n",
        "        print(token.i, token.orth_, token.lemma_, token.pos_, token.tag_, token.dep_, token.head.i)\n",
        "    print('EOS')"
      ],
      "execution_count": 0,
      "outputs": [
        {
          "output_type": "stream",
          "text": [
            "0 銀座 銀座 PROPN 名詞-固有名詞-地名-一般 compound 5\n",
            "1 で で ADP 助詞-格助詞 case 0\n",
            "2 ランチ ランチ NOUN 名詞-普通名詞-一般 obj 5\n",
            "3 を を ADP 助詞-格助詞 case 2\n",
            "4 ご 御 NOUN 接頭辞 compound 5\n",
            "5 一緒 一緒 VERB 名詞-普通名詞-サ変可能 ROOT 5\n",
            "6 し 為る AUX 動詞-非自立可能 aux 5\n",
            "7 ましょう ます AUX 助動詞 aux 5\n",
            "8 。 。 PUNCT 補助記号-句点 punct 5\n",
            "EOS\n"
          ],
          "name": "stdout"
        }
      ]
    },
    {
      "cell_type": "markdown",
      "metadata": {
        "id": "ld6hpxsUTcPW",
        "colab_type": "text"
      },
      "source": [
        "## NER の例"
      ]
    },
    {
      "cell_type": "code",
      "metadata": {
        "id": "9q0u04dvNV3Z",
        "colab_type": "code",
        "outputId": "fae3227e-b21e-4ca5-daee-91ed2a6199be",
        "colab": {
          "base_uri": "https://localhost:8080/",
          "height": 153
        }
      },
      "source": [
        "doc = nlp(\"ソフトバンクグループは30日、ことし３月期のグループ全体の業績見通しを下方修正し、\" + \n",
        "          \"最終赤字の額がこれまでの見込みより1500億円増え、9000億円の赤字になると発表しました。\" + \n",
        "          \"投資先のアメリカのシェアオフィス大手、ウィーワークの経営悪化によって支援策に関連する損失が当初の見込みより増えたことなどが理由です。\")\n",
        "\n",
        "for ent in doc.ents:\n",
        "    print(ent.text, ent.start_char, ent.end_char, ent.label_)"
      ],
      "execution_count": 0,
      "outputs": [
        {
          "output_type": "stream",
          "text": [
            "ソフトバンクグループ 0 10 Person\n",
            "30日 11 14 Date\n",
            "３月期 18 21 Date\n",
            "1500億円 58 64 Money\n",
            "9000億円 67 73 Money\n",
            "アメリカ 91 95 Country\n",
            "ウィーワーク 106 112 Company\n",
            "経営悪化 113 117 Doctrine_Method_Other\n"
          ],
          "name": "stdout"
        }
      ]
    },
    {
      "cell_type": "markdown",
      "metadata": {
        "id": "X8t84r3tTh8n",
        "colab_type": "text"
      },
      "source": [
        "ソフトバンクグループが人として認識されている．これをどうにかしたいので，モデルを学習する．汎化性能を見るためにテストデータも用意する．"
      ]
    },
    {
      "cell_type": "code",
      "metadata": {
        "id": "phlBb8cZNpuG",
        "colab_type": "code",
        "outputId": "c29f030b-ac13-44ae-dee4-b0717d0529fa",
        "colab": {
          "base_uri": "https://localhost:8080/",
          "height": 255
        }
      },
      "source": [
        "text_train = \"ソフトバンクグループは30日、ことし３月期のグループ全体の業績見通しを下方修正し、\" + \\\n",
        "\"最終赤字の額がこれまでの見込みより1500億円増え、9000億円の赤字になると発表しました。\" + \\\n",
        "\"投資先のアメリカのシェアオフィス大手、ウィーワークの経営悪化によって支援策に関連する損失が当初の見込みより増えたことなどが理由です。\"\n",
        "doc_train = nlp(text_train)\n",
        "\n",
        "text_test = \"去年３月期の決算では１兆4000億円余りの最終黒字を確保したソフトバンクグループは今回は一転して巨額の赤字となります。\" + \\\n",
        "\"年間の決算で最終赤字となるのは15年ぶりで赤字幅は過去最大です。\"\n",
        "# text_test = \"ソフトバンクグループは、新型コロナウイルスの感染拡大を背景にした市場の動揺で\" + \\\n",
        "#             \"投資先の企業の価値が下がったことから、業績が急激に悪化しました。\"\n",
        "doc_test = nlp(text_test)\n",
        "\n",
        "print(\"train\")\n",
        "for ent in doc_train.ents:\n",
        "    print(ent.text, ent.start_char, ent.end_char, ent.label_)\n",
        "\n",
        "print(\"\\ntest\")\n",
        "for ent in doc_test.ents:\n",
        "    print(ent.text, ent.start_char, ent.end_char, ent.label_)"
      ],
      "execution_count": 0,
      "outputs": [
        {
          "output_type": "stream",
          "text": [
            "train\n",
            "ソフトバンクグループ 0 10 Person\n",
            "30日 11 14 Date\n",
            "３月期 18 21 Date\n",
            "1500億円 58 64 Money\n",
            "9000億円 67 73 Money\n",
            "アメリカ 91 95 Country\n",
            "ウィーワーク 106 112 Company\n",
            "経営悪化 113 117 Doctrine_Method_Other\n",
            "\n",
            "test\n",
            "去年３月期 0 5 Date\n",
            "１兆4000億円余り 10 20 Money\n",
            "15年ぶり 74 79 Period_Year\n"
          ],
          "name": "stdout"
        }
      ]
    },
    {
      "cell_type": "markdown",
      "metadata": {
        "id": "VG9SFk-UTt3J",
        "colab_type": "text"
      },
      "source": [
        "テストデータの `ソフトバンクグループ` は固有表現としても認識されていない．\n",
        "\n",
        "訓練データの NER は `ソフトバンクグループ` 以外は正しいことにして，ソフトバンクグループの Person を Company に変えたものを正解データとして学習させる．[spaCy 101](https://spacy.io/usage/spacy-101#lightning-tour) にあるコードを流用．"
      ]
    },
    {
      "cell_type": "code",
      "metadata": {
        "id": "HiBTnK4jSaA4",
        "colab_type": "code",
        "outputId": "5bbc551f-b3d8-46bd-d0f6-9106aab25ef7",
        "colab": {
          "base_uri": "https://localhost:8080/",
          "height": 88
        }
      },
      "source": [
        "correct_labels = [(ent.start_char, ent.end_char, ent.label_) for ent in doc_train.ents[1:]] # ソフトバンクグループ以外の固有表現はそのまま利用\n",
        "print(corrrect_labels)\n",
        "train_data = [(text_train, {\"entities\": [(0, 10, \"Company\")] + correct_labels})]\n",
        "\n",
        "import random\n",
        "\n",
        "other_pipes = [pipe for pipe in nlp.pipe_names if pipe != \"ner\"]\n",
        "with nlp.disable_pipes(*other_pipes):\n",
        "    optimizer = nlp.begin_training()\n",
        "    for i in range(10):\n",
        "        random.shuffle(train_data)\n",
        "        for text, annotations in train_data:\n",
        "            nlp.update([text], [annotations], sgd=optimizer)"
      ],
      "execution_count": 0,
      "outputs": [
        {
          "output_type": "stream",
          "text": [
            "[(11, 14, 'Date'), (18, 21, 'Date'), (58, 64, 'Money'), (67, 73, 'Money'), (91, 95, 'Country'), (106, 112, 'Company'), (113, 117, 'Doctrine_Method_Other')]\n"
          ],
          "name": "stdout"
        },
        {
          "output_type": "stream",
          "text": [
            "/usr/lib/python3.6/runpy.py:193: UserWarning: [W019] Changing vectors name from ja_nopn.vectors to ja_nopn.vectors_153336, to avoid clash with previously loaded vectors. See Issue #3853.\n",
            "  \"__main__\", mod_spec)\n"
          ],
          "name": "stderr"
        }
      ]
    },
    {
      "cell_type": "markdown",
      "metadata": {
        "id": "0wLbDq63TMBl",
        "colab_type": "text"
      },
      "source": [
        "訓練データの `ソフトバンクグループ` が正しく Company で認識されるだけでなく，テストデータの `ソフトバンクグループ` もうまく行く"
      ]
    },
    {
      "cell_type": "code",
      "metadata": {
        "id": "ipXUaDs6OO0A",
        "colab_type": "code",
        "outputId": "7c4f2591-14f3-4877-c2f1-d9a875a87f9d",
        "colab": {
          "base_uri": "https://localhost:8080/",
          "height": 255
        }
      },
      "source": [
        "print(\"train\")\n",
        "for ent in nlp(text_train).ents:\n",
        "    print(ent.text, ent.start_char, ent.end_char, ent.label_)\n",
        "print(\"test\")\n",
        "for ent in nlp(text_test).ents:\n",
        "    print(ent.text, ent.start_char, ent.end_char, ent.label_)"
      ],
      "execution_count": 0,
      "outputs": [
        {
          "output_type": "stream",
          "text": [
            "train\n",
            "ソフトバンクグループ 0 10 Company\n",
            "30日 11 14 Date\n",
            "３月期 18 21 Date\n",
            "1500億円 58 64 Money\n",
            "9000億円 67 73 Money\n",
            "アメリカ 91 95 Country\n",
            "ウィーワーク 106 112 Company\n",
            "経営悪化 113 117 Doctrine_Method_Other\n",
            "test\n",
            "３月期 2 5 Date\n",
            "１兆4000億円余り 10 20 Money\n",
            "ソフトバンクグループ 30 40 Company\n",
            "15年ぶり 74 79 Date\n"
          ],
          "name": "stdout"
        }
      ]
    }
  ]
}