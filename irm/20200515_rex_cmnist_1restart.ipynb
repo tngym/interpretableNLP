{
  "nbformat": 4,
  "nbformat_minor": 0,
  "metadata": {
    "colab": {
      "name": "20200515_rex_cmnist_1restart.ipynb",
      "provenance": [],
      "collapsed_sections": [],
      "authorship_tag": "ABX9TyO6/729al0NQlQVXLSTuKcD",
      "include_colab_link": true
    },
    "kernelspec": {
      "name": "python3",
      "display_name": "Python 3"
    },
    "accelerator": "GPU"
  },
  "cells": [
    {
      "cell_type": "markdown",
      "metadata": {
        "id": "view-in-github",
        "colab_type": "text"
      },
      "source": [
        "<a href=\"https://colab.research.google.com/github/tngym/workrepo/blob/master/irm/20200515_rex_cmnist_1restart.ipynb\" target=\"_parent\"><img src=\"https://colab.research.google.com/assets/colab-badge.svg\" alt=\"Open In Colab\"/></a>"
      ]
    },
    {
      "cell_type": "code",
      "metadata": {
        "id": "8jP38pSUYPbj",
        "colab_type": "code",
        "colab": {
          "base_uri": "https://localhost:8080/",
          "height": 54
        },
        "outputId": "32e99b6e-0e88-4d4e-d7b0-7e7e1160e176"
      },
      "source": [
        "# https://github.com/capybaralet/REx_code_release/blob/802da4a45a92a1f7f2c50cb1aecf5a195ef65435/InvariantRiskMinimization/colored_mnist/main.py\n",
        "\n",
        "import argparse\n",
        "import numpy as np\n",
        "import torch\n",
        "import torch.nn.functional as F\n",
        "from torchvision import datasets\n",
        "from torch import nn, optim, autograd\n",
        "\n",
        "\n",
        "def str2bool(v):\n",
        "  return v.lower() in (\"yes\", \"true\", \"t\", \"1\")\n",
        "\n",
        "use_cuda = torch.cuda.is_available()\n",
        "\n",
        "parser = argparse.ArgumentParser(description='Colored MNIST')\n",
        "parser.add_argument('--hidden_dim', type=int, default=256)\n",
        "parser.add_argument('--l2_regularizer_weight', type=float,default=0.001)\n",
        "parser.add_argument('--lr', type=float, default=0.001)\n",
        "parser.add_argument('--n_restarts', type=int, default=10)\n",
        "parser.add_argument('--penalty_anneal_iters', type=int, default=100)\n",
        "parser.add_argument('--penalty_weight', type=float, default=10000.0)\n",
        "parser.add_argument('--steps', type=int, default=501)\n",
        "parser.add_argument('--grayscale_model', type=str2bool, default=False)\n",
        "parser.add_argument('--batch_size', type=int, default=25000)\n",
        "parser.add_argument('--train_set_size', type=int, default=50000)\n",
        "parser.add_argument('--eval_interval', type=int, default=100)\n",
        "parser.add_argument('--print_eval_intervals', type=str2bool, default=True)\n",
        "\n",
        "parser.add_argument('--train_env_1__color_noise', type=float, default=0.2)\n",
        "parser.add_argument('--train_env_2__color_noise', type=float, default=0.1)\n",
        "#parser.add_argument('--val_env__color_noise', type=float, default=0.1)\n",
        "parser.add_argument('--test_env__color_noise', type=float, default=0.9)\n",
        "\n",
        "parser.add_argument('--erm_amount', type=float, default=1.0)\n",
        "\n",
        "parser.add_argument('--early_loss_mean', type=str2bool, default=True)\n",
        "\n",
        "parser.add_argument('--rex', type=str2bool, default=True)\n",
        "parser.add_argument('--mse', type=str2bool, default=True)\n",
        "\n",
        "parser.add_argument('--plot', type=str2bool, default=True)\n",
        "parser.add_argument('--save_numpy_log', type=str2bool, default=True)\n"
      ],
      "execution_count": 31,
      "outputs": [
        {
          "output_type": "execute_result",
          "data": {
            "text/plain": [
              "_StoreAction(option_strings=['--save_numpy_log'], dest='save_numpy_log', nargs=None, const=None, default=True, type=<function str2bool at 0x7f50b1d62d90>, choices=None, help=None, metavar=None)"
            ]
          },
          "metadata": {
            "tags": []
          },
          "execution_count": 31
        }
      ]
    },
    {
      "cell_type": "code",
      "metadata": {
        "id": "yWEXD8oBY2BP",
        "colab_type": "code",
        "colab": {}
      },
      "source": [
        "from matplotlib import pyplot as plt\n",
        "%matplotlib inline"
      ],
      "execution_count": 0,
      "outputs": []
    },
    {
      "cell_type": "code",
      "metadata": {
        "id": "9VERnHf4Y89r",
        "colab_type": "code",
        "colab": {
          "base_uri": "https://localhost:8080/",
          "height": 402
        },
        "outputId": "fbe05660-9d31-4b5e-bd45-c09fe33d4f27"
      },
      "source": [
        "flags = parser.parse_args([])\n",
        "\n",
        "print('Flags:')\n",
        "for k,v in sorted(vars(flags).items()):\n",
        "  print(\"\\t{}: {}\".format(k, v))\n",
        "\n",
        "num_batches = (flags.train_set_size // 2) // flags.batch_size\n",
        "\n",
        "# TODO: logging\n",
        "all_train_nlls = -1*np.ones((flags.n_restarts, flags.steps))\n",
        "all_train_accs = -1*np.ones((flags.n_restarts, flags.steps))\n",
        "#all_train_penalties = -1*np.ones((flags.n_restarts, flags.steps))\n",
        "all_irmv1_penalties = -1*np.ones((flags.n_restarts, flags.steps))\n",
        "all_rex_penalties = -1*np.ones((flags.n_restarts, flags.steps))\n",
        "all_test_accs = -1*np.ones((flags.n_restarts, flags.steps))\n",
        "all_grayscale_test_accs = -1*np.ones((flags.n_restarts, flags.steps))\n",
        "\n",
        "final_train_accs = []\n",
        "final_test_accs = []\n",
        "highest_test_accs = []"
      ],
      "execution_count": 33,
      "outputs": [
        {
          "output_type": "stream",
          "text": [
            "Flags:\n",
            "\tbatch_size: 25000\n",
            "\tearly_loss_mean: True\n",
            "\term_amount: 1.0\n",
            "\teval_interval: 100\n",
            "\tgrayscale_model: False\n",
            "\thidden_dim: 256\n",
            "\tl2_regularizer_weight: 0.001\n",
            "\tlr: 0.001\n",
            "\tmse: True\n",
            "\tn_restarts: 10\n",
            "\tpenalty_anneal_iters: 100\n",
            "\tpenalty_weight: 10000.0\n",
            "\tplot: True\n",
            "\tprint_eval_intervals: True\n",
            "\trex: True\n",
            "\tsave_numpy_log: True\n",
            "\tsteps: 501\n",
            "\ttest_env__color_noise: 0.9\n",
            "\ttrain_env_1__color_noise: 0.2\n",
            "\ttrain_env_2__color_noise: 0.1\n",
            "\ttrain_set_size: 50000\n"
          ],
          "name": "stdout"
        }
      ]
    },
    {
      "cell_type": "code",
      "metadata": {
        "id": "0hv9qMW4Y-8G",
        "colab_type": "code",
        "colab": {}
      },
      "source": [
        "restart = 0"
      ],
      "execution_count": 0,
      "outputs": []
    },
    {
      "cell_type": "code",
      "metadata": {
        "id": "fkkb2xunZEGF",
        "colab_type": "code",
        "colab": {}
      },
      "source": [
        "highest_test_acc = 0.0\n",
        "\n",
        "# Load MNIST, make train/val splits, and shuffle train set examples\n",
        "\n",
        "mnist = datasets.MNIST('~/datasets/mnist', train=True, download=True)\n",
        "mnist_train = (mnist.data[:50000], mnist.targets[:50000])\n",
        "mnist_val = (mnist.data[50000:], mnist.targets[50000:])\n",
        "\n",
        "rng_state = np.random.get_state()\n",
        "np.random.shuffle(mnist_train[0].numpy())\n",
        "np.random.set_state(rng_state)\n",
        "np.random.shuffle(mnist_train[1].numpy())"
      ],
      "execution_count": 0,
      "outputs": []
    },
    {
      "cell_type": "code",
      "metadata": {
        "id": "tgKWfnl4ZOTE",
        "colab_type": "code",
        "colab": {}
      },
      "source": [
        "# Build environments\n",
        "\n",
        "def make_environment(images, labels, e, grayscale_dup=False):\n",
        "  def torch_bernoulli(p, size):\n",
        "    return (torch.rand(size) < p).float()\n",
        "  def torch_xor(a, b):\n",
        "    return (a-b).abs() # Assumes both inputs are either 0 or 1\n",
        "  # 2x subsample for computational convenience\n",
        "  images = images.reshape((-1, 28, 28))[:, ::2, ::2]\n",
        "  # Assign a binary label based on the digit; flip label with probability 0.25\n",
        "  labels = (labels < 5).float()\n",
        "  labels = torch_xor(labels, torch_bernoulli(.25, len(labels)))\n",
        "  # Assign a color based on the label; flip the color with probability e\n",
        "  colors = torch_xor(labels, torch_bernoulli(e, len(labels)))\n",
        "  # Apply the color to the image by zeroing out the other color channel\n",
        "  images = torch.stack([images, images], dim=1)\n",
        "  if not grayscale_dup:\n",
        "    images[torch.tensor(range(len(images))), (1-colors).long(), :, :] *= 0\n",
        "  if use_cuda:\n",
        "    return {\n",
        "      'images': (images.float() / 255.).cuda(),\n",
        "      'labels': labels[:, None].cuda()\n",
        "    }\n",
        "  else:\n",
        "    return {\n",
        "      'images': (images.float() / 255.),\n",
        "      'labels': labels[:, None]\n",
        "    }\n",
        "\n",
        "envs = [\n",
        "  make_environment(mnist_train[0][::2], mnist_train[1][::2], flags.train_env_1__color_noise),\n",
        "  make_environment(mnist_train[0][1::2], mnist_train[1][1::2], flags.train_env_2__color_noise),\n",
        "  make_environment(mnist_val[0], mnist_val[1], flags.test_env__color_noise),\n",
        "  make_environment(mnist_val[0], mnist_val[1], flags.test_env__color_noise, grayscale_dup=True)\n",
        "]  \n"
      ],
      "execution_count": 0,
      "outputs": []
    },
    {
      "cell_type": "code",
      "metadata": {
        "id": "9Nq9SsqUa80f",
        "colab_type": "code",
        "colab": {
          "base_uri": "https://localhost:8080/",
          "height": 80
        },
        "outputId": "09febbf9-7cb4-47ce-d42c-deeff46ea12d"
      },
      "source": [
        "fig, axs = plt.subplots(1, 10, figsize = (6, 6))\n",
        "for i in range(10):\n",
        "  axs[i].imshow(mnist_train[0][i].numpy())"
      ],
      "execution_count": 37,
      "outputs": [
        {
          "output_type": "display_data",
          "data": {
            "image/png": "[encoded data removed]",
            "text/plain": [
              "<Figure size 432x432 with 10 Axes>"
            ]
          },
          "metadata": {
            "tags": [],
            "needs_background": "light"
          }
        }
      ]
    },
    {
      "cell_type": "code",
      "metadata": {
        "id": "xqFxGZm0Z-Lm",
        "colab_type": "code",
        "colab": {
          "base_uri": "https://localhost:8080/",
          "height": 1000
        },
        "outputId": "87af07e7-4b57-49c0-9899-4bc4bcef62f3"
      },
      "source": [
        "def _show(img_id, env_id):\n",
        "  print(f\"env: {env_id}, label: {envs[env_id]['labels'][img_id][0]}\")\n",
        "  fig, axs = plt.subplots(1, 2, figsize = (2, 2))\n",
        "  axs[0].imshow(envs[env_id][\"images\"][img_id][0].cpu().numpy())\n",
        "  axs[1].imshow(envs[env_id][\"images\"][img_id][1].cpu().numpy())\n",
        "  plt.show();\n",
        "\n",
        "for j in range(2):\n",
        "  for i in range(10):\n",
        "    _show(i, j)\n",
        "\n",
        "for i in range(10):\n",
        "  for j in range(2, 4):\n",
        "    _show(i, j)"
      ],
      "execution_count": 38,
      "outputs": [
        {
          "output_type": "stream",
          "text": [
            "env: 0, label: 1.0\n"
          ],
          "name": "stdout"
        },
        {
          "output_type": "display_data",
          "data": {
            "image/png": "[encoded data removed]",
            "text/plain": [
              "<Figure size 144x144 with 2 Axes>"
            ]
          },
          "metadata": {
            "tags": [],
            "needs_background": "light"
          }
        },
        {
          "output_type": "stream",
          "text": [
            "env: 0, label: 1.0\n"
          ],
          "name": "stdout"
        },
        {
          "output_type": "display_data",
          "data": {
            "image/png": "[encoded data removed]",
            "text/plain": [
              "<Figure size 144x144 with 2 Axes>"
            ]
          },
          "metadata": {
            "tags": [],
            "needs_background": "light"
          }
        },
        {
          "output_type": "stream",
          "text": [
            "env: 0, label: 0.0\n"
          ],
          "name": "stdout"
        },
        {
          "output_type": "display_data",
          "data": {
            "image/png": "[encoded data removed]",
            "text/plain": [
              "<Figure size 144x144 with 2 Axes>"
            ]
          },
          "metadata": {
            "tags": [],
            "needs_background": "light"
          }
        },
        {
          "output_type": "stream",
          "text": [
            "env: 0, label: 0.0\n"
          ],
          "name": "stdout"
        },
        {
          "output_type": "display_data",
          "data": {
            "image/png": "[encoded data removed]",
            "text/plain": [
              "<Figure size 144x144 with 2 Axes>"
            ]
          },
          "metadata": {
            "tags": [],
            "needs_background": "light"
          }
        },
        {
          "output_type": "stream",
          "text": [
            "env: 0, label: 0.0\n"
          ],
          "name": "stdout"
        },
        {
          "output_type": "display_data",
          "data": {
            "image/png": "[encoded data removed]",
            "text/plain": [
              "<Figure size 144x144 with 2 Axes>"
            ]
          },
          "metadata": {
            "tags": [],
            "needs_background": "light"
          }
        },
        {
          "output_type": "stream",
          "text": [
            "env: 0, label: 1.0\n"
          ],
          "name": "stdout"
        },
        {
          "output_type": "display_data",
          "data": {
            "image/png": "[encoded data removed]",
            "text/plain": [
              "<Figure size 144x144 with 2 Axes>"
            ]
          },
          "metadata": {
            "tags": [],
            "needs_background": "light"
          }
        },
        {
          "output_type": "stream",
          "text": [
            "env: 0, label: 0.0\n"
          ],
          "name": "stdout"
        },
        {
          "output_type": "display_data",
          "data": {
            "image/png": "[encoded data removed]",
            "text/plain": [
              "<Figure size 144x144 with 2 Axes>"
            ]
          },
          "metadata": {
            "tags": [],
            "needs_background": "light"
          }
        },
        {
          "output_type": "stream",
          "text": [
            "env: 0, label: 1.0\n"
          ],
          "name": "stdout"
        },
        {
          "output_type": "display_data",
          "data": {
            "image/png": "[encoded data removed]",
            "text/plain": [
              "<Figure size 144x144 with 2 Axes>"
            ]
          },
          "metadata": {
            "tags": [],
            "needs_background": "light"
          }
        },
        {
          "output_type": "stream",
          "text": [
            "env: 0, label: 1.0\n"
          ],
          "name": "stdout"
        },
        {
          "output_type": "display_data",
          "data": {
            "image/png": "[encoded data removed]",
            "text/plain": [
              "<Figure size 144x144 with 2 Axes>"
            ]
          },
          "metadata": {
            "tags": [],
            "needs_background": "light"
          }
        },
        {
          "output_type": "stream",
          "text": [
            "env: 0, label: 0.0\n"
          ],
          "name": "stdout"
        },
        {
          "output_type": "display_data",
          "data": {
            "image/png": "[encoded data removed]",
            "text/plain": [
              "<Figure size 144x144 with 2 Axes>"
            ]
          },
          "metadata": {
            "tags": [],
            "needs_background": "light"
          }
        },
        {
          "output_type": "stream",
          "text": [
            "env: 1, label: 1.0\n"
          ],
          "name": "stdout"
        },
        {
          "output_type": "display_data",
          "data": {
            "image/png": "[encoded data removed]",
            "text/plain": [
              "<Figure size 144x144 with 2 Axes>"
            ]
          },
          "metadata": {
            "tags": [],
            "needs_background": "light"
          }
        },
        {
          "output_type": "stream",
          "text": [
            "env: 1, label: 0.0\n"
          ],
          "name": "stdout"
        },
        {
          "output_type": "display_data",
          "data": {
            "image/png": "[encoded data removed]",
            "text/plain": [
              "<Figure size 144x144 with 2 Axes>"
            ]
          },
          "metadata": {
            "tags": [],
            "needs_background": "light"
          }
        },
        {
          "output_type": "stream",
          "text": [
            "env: 1, label: 0.0\n"
          ],
          "name": "stdout"
        },
        {
          "output_type": "display_data",
          "data": {
            "image/png": "[encoded data removed]",
            "text/plain": [
              "<Figure size 144x144 with 2 Axes>"
            ]
          },
          "metadata": {
            "tags": [],
            "needs_background": "light"
          }
        },
        {
          "output_type": "stream",
          "text": [
            "env: 1, label: 1.0\n"
          ],
          "name": "stdout"
        },
        {
          "output_type": "display_data",
          "data": {
            "image/png": "[encoded data removed]",
            "text/plain": [
              "<Figure size 144x144 with 2 Axes>"
            ]
          },
          "metadata": {
            "tags": [],
            "needs_background": "light"
          }
        },
        {
          "output_type": "stream",
          "text": [
            "env: 1, label: 0.0\n"
          ],
          "name": "stdout"
        },
        {
          "output_type": "display_data",
          "data": {
            "image/png": "[encoded data removed]",
            "text/plain": [
              "<Figure size 144x144 with 2 Axes>"
            ]
          },
          "metadata": {
            "tags": [],
            "needs_background": "light"
          }
        },
        {
          "output_type": "stream",
          "text": [
            "env: 1, label: 1.0\n"
          ],
          "name": "stdout"
        },
        {
          "output_type": "display_data",
          "data": {
            "image/png": "[encoded data removed]",
            "text/plain": [
              "<Figure size 144x144 with 2 Axes>"
            ]
          },
          "metadata": {
            "tags": [],
            "needs_background": "light"
          }
        },
        {
          "output_type": "stream",
          "text": [
            "env: 1, label: 1.0\n"
          ],
          "name": "stdout"
        },
        {
          "output_type": "display_data",
          "data": {
            "image/png": "[encoded data removed]",
            "text/plain": [
              "<Figure size 144x144 with 2 Axes>"
            ]
          },
          "metadata": {
            "tags": [],
            "needs_background": "light"
          }
        },
        {
          "output_type": "stream",
          "text": [
            "env: 1, label: 1.0\n"
          ],
          "name": "stdout"
        },
        {
          "output_type": "display_data",
          "data": {
            "image/png": "[encoded data removed]",
            "text/plain": [
              "<Figure size 144x144 with 2 Axes>"
            ]
          },
          "metadata": {
            "tags": [],
            "needs_background": "light"
          }
        },
        {
          "output_type": "stream",
          "text": [
            "env: 1, label: 1.0\n"
          ],
          "name": "stdout"
        },
        {
          "output_type": "display_data",
          "data": {
            "image/png": "[encoded data removed]",
            "text/plain": [
              "<Figure size 144x144 with 2 Axes>"
            ]
          },
          "metadata": {
            "tags": [],
            "needs_background": "light"
          }
        },
        {
          "output_type": "stream",
          "text": [
            "env: 1, label: 1.0\n"
          ],
          "name": "stdout"
        },
        {
          "output_type": "display_data",
          "data": {
            "image/png": "[encoded data removed]",
            "text/plain": [
              "<Figure size 144x144 with 2 Axes>"
            ]
          },
          "metadata": {
            "tags": [],
            "needs_background": "light"
          }
        },
        {
          "output_type": "stream",
          "text": [
            "env: 2, label: 1.0\n"
          ],
          "name": "stdout"
        },
        {
          "output_type": "display_data",
          "data": {
            "image/png": "[encoded data removed]",
            "text/plain": [
              "<Figure size 144x144 with 2 Axes>"
            ]
          },
          "metadata": {
            "tags": [],
            "needs_background": "light"
          }
        },
        {
          "output_type": "stream",
          "text": [
            "env: 3, label: 1.0\n"
          ],
          "name": "stdout"
        },
        {
          "output_type": "display_data",
          "data": {
            "image/png": "[encoded data removed]",
            "text/plain": [
              "<Figure size 144x144 with 2 Axes>"
            ]
          },
          "metadata": {
            "tags": [],
            "needs_background": "light"
          }
        },
        {
          "output_type": "stream",
          "text": [
            "env: 2, label: 0.0\n"
          ],
          "name": "stdout"
        },
        {
          "output_type": "display_data",
          "data": {
            "image/png": "[encoded data removed]",
            "text/plain": [
              "<Figure size 144x144 with 2 Axes>"
            ]
          },
          "metadata": {
            "tags": [],
            "needs_background": "light"
          }
        },
        {
          "output_type": "stream",
          "text": [
            "env: 3, label: 0.0\n"
          ],
          "name": "stdout"
        },
        {
          "output_type": "display_data",
          "data": {
            "image/png": "[encoded data removed]",
            "text/plain": [
              "<Figure size 144x144 with 2 Axes>"
            ]
          },
          "metadata": {
            "tags": [],
            "needs_background": "light"
          }
        },
        {
          "output_type": "stream",
          "text": [
            "env: 2, label: 0.0\n"
          ],
          "name": "stdout"
        },
        {
          "output_type": "display_data",
          "data": {
            "image/png": "[encoded data removed]",
            "text/plain": [
              "<Figure size 144x144 with 2 Axes>"
            ]
          },
          "metadata": {
            "tags": [],
            "needs_background": "light"
          }
        },
        {
          "output_type": "stream",
          "text": [
            "env: 3, label: 0.0\n"
          ],
          "name": "stdout"
        },
        {
          "output_type": "display_data",
          "data": {
            "image/png": "[encoded data removed]",
            "text/plain": [
              "<Figure size 144x144 with 2 Axes>"
            ]
          },
          "metadata": {
            "tags": [],
            "needs_background": "light"
          }
        },
        {
          "output_type": "stream",
          "text": [
            "env: 2, label: 0.0\n"
          ],
          "name": "stdout"
        },
        {
          "output_type": "display_data",
          "data": {
            "image/png": "[encoded data removed]",
            "text/plain": [
              "<Figure size 144x144 with 2 Axes>"
            ]
          },
          "metadata": {
            "tags": [],
            "needs_background": "light"
          }
        },
        {
          "output_type": "stream",
          "text": [
            "env: 3, label: 0.0\n"
          ],
          "name": "stdout"
        },
        {
          "output_type": "display_data",
          "data": {
            "image/png": "[encoded data removed]",
            "text/plain": [
              "<Figure size 144x144 with 2 Axes>"
            ]
          },
          "metadata": {
            "tags": [],
            "needs_background": "light"
          }
        },
        {
          "output_type": "stream",
          "text": [
            "env: 2, label: 1.0\n"
          ],
          "name": "stdout"
        },
        {
          "output_type": "display_data",
          "data": {
            "image/png": "[encoded data removed]",
            "text/plain": [
              "<Figure size 144x144 with 2 Axes>"
            ]
          },
          "metadata": {
            "tags": [],
            "needs_background": "light"
          }
        },
        {
          "output_type": "stream",
          "text": [
            "env: 3, label: 0.0\n"
          ],
          "name": "stdout"
        },
        {
          "output_type": "display_data",
          "data": {
            "image/png": "[encoded data removed]",
            "text/plain": [
              "<Figure size 144x144 with 2 Axes>"
            ]
          },
          "metadata": {
            "tags": [],
            "needs_background": "light"
          }
        },
        {
          "output_type": "stream",
          "text": [
            "env: 2, label: 1.0\n"
          ],
          "name": "stdout"
        },
        {
          "output_type": "display_data",
          "data": {
            "image/png": "[encoded data removed]",
            "text/plain": [
              "<Figure size 144x144 with 2 Axes>"
            ]
          },
          "metadata": {
            "tags": [],
            "needs_background": "light"
          }
        },
        {
          "output_type": "stream",
          "text": [
            "env: 3, label: 1.0\n"
          ],
          "name": "stdout"
        },
        {
          "output_type": "display_data",
          "data": {
            "image/png": "[encoded data removed]",
            "text/plain": [
              "<Figure size 144x144 with 2 Axes>"
            ]
          },
          "metadata": {
            "tags": [],
            "needs_background": "light"
          }
        },
        {
          "output_type": "stream",
          "text": [
            "env: 2, label: 0.0\n"
          ],
          "name": "stdout"
        },
        {
          "output_type": "display_data",
          "data": {
            "image/png": "[encoded data removed]",
            "text/plain": [
              "<Figure size 144x144 with 2 Axes>"
            ]
          },
          "metadata": {
            "tags": [],
            "needs_background": "light"
          }
        },
        {
          "output_type": "stream",
          "text": [
            "env: 3, label: 0.0\n"
          ],
          "name": "stdout"
        },
        {
          "output_type": "display_data",
          "data": {
            "image/png": "[encoded data removed]",
            "text/plain": [
              "<Figure size 144x144 with 2 Axes>"
            ]
          },
          "metadata": {
            "tags": [],
            "needs_background": "light"
          }
        },
        {
          "output_type": "stream",
          "text": [
            "env: 2, label: 1.0\n"
          ],
          "name": "stdout"
        },
        {
          "output_type": "display_data",
          "data": {
            "image/png": "[encoded data removed]",
            "text/plain": [
              "<Figure size 144x144 with 2 Axes>"
            ]
          },
          "metadata": {
            "tags": [],
            "needs_background": "light"
          }
        },
        {
          "output_type": "stream",
          "text": [
            "env: 3, label: 1.0\n"
          ],
          "name": "stdout"
        },
        {
          "output_type": "display_data",
          "data": {
            "image/png": "[encoded data removed]",
            "text/plain": [
              "<Figure size 144x144 with 2 Axes>"
            ]
          },
          "metadata": {
            "tags": [],
            "needs_background": "light"
          }
        },
        {
          "output_type": "stream",
          "text": [
            "env: 2, label: 0.0\n"
          ],
          "name": "stdout"
        },
        {
          "output_type": "display_data",
          "data": {
            "image/png": "[encoded data removed]",
            "text/plain": [
              "<Figure size 144x144 with 2 Axes>"
            ]
          },
          "metadata": {
            "tags": [],
            "needs_background": "light"
          }
        },
        {
          "output_type": "stream",
          "text": [
            "env: 3, label: 0.0\n"
          ],
          "name": "stdout"
        },
        {
          "output_type": "display_data",
          "data": {
            "image/png": "[encoded data removed]",
            "text/plain": [
              "<Figure size 144x144 with 2 Axes>"
            ]
          },
          "metadata": {
            "tags": [],
            "needs_background": "light"
          }
        },
        {
          "output_type": "stream",
          "text": [
            "env: 2, label: 1.0\n"
          ],
          "name": "stdout"
        },
        {
          "output_type": "display_data",
          "data": {
            "image/png": "[encoded data removed]",
            "text/plain": [
              "<Figure size 144x144 with 2 Axes>"
            ]
          },
          "metadata": {
            "tags": [],
            "needs_background": "light"
          }
        },
        {
          "output_type": "stream",
          "text": [
            "env: 3, label: 1.0\n"
          ],
          "name": "stdout"
        },
        {
          "output_type": "display_data",
          "data": {
            "image/png": "[encoded data removed]",
            "text/plain": [
              "<Figure size 144x144 with 2 Axes>"
            ]
          },
          "metadata": {
            "tags": [],
            "needs_background": "light"
          }
        }
      ]
    },
    {
      "cell_type": "code",
      "metadata": {
        "id": "UfAIaKgQaPsL",
        "colab_type": "code",
        "colab": {}
      },
      "source": [
        "\n",
        "# Define and instantiate the model\n",
        "\n",
        "class MLP(nn.Module):\n",
        "  def __init__(self):\n",
        "    super(MLP, self).__init__()\n",
        "    if flags.grayscale_model:\n",
        "      lin1 = nn.Linear(14 * 14, flags.hidden_dim)\n",
        "    else:\n",
        "      lin1 = nn.Linear(2 * 14 * 14, flags.hidden_dim)\n",
        "    lin2 = nn.Linear(flags.hidden_dim, flags.hidden_dim)\n",
        "    lin3 = nn.Linear(flags.hidden_dim, 1)\n",
        "    for lin in [lin1, lin2, lin3]:\n",
        "      nn.init.xavier_uniform_(lin.weight)\n",
        "      nn.init.zeros_(lin.bias)\n",
        "    self._main = nn.Sequential(lin1, nn.ReLU(True), lin2, nn.ReLU(True), lin3)\n",
        "  def forward(self, input):\n",
        "    if flags.grayscale_model:\n",
        "      out = input.view(input.shape[0], 2, 14 * 14).sum(dim=1)\n",
        "    else:\n",
        "      out = input.view(input.shape[0], 2 * 14 * 14)\n",
        "    out = self._main(out)\n",
        "    return out\n",
        "\n",
        "if use_cuda:\n",
        "  mlp = MLP().cuda()\n",
        "else:\n",
        "  mlp = MLP()"
      ],
      "execution_count": 0,
      "outputs": []
    },
    {
      "cell_type": "markdown",
      "metadata": {
        "id": "8b-yWtHFber2",
        "colab_type": "text"
      },
      "source": [
        "ここでは IRM のペナルティのみ定義．REx のペナルティは学習部分で"
      ]
    },
    {
      "cell_type": "code",
      "metadata": {
        "id": "tVqe0W4pbbZ1",
        "colab_type": "code",
        "colab": {}
      },
      "source": [
        "# Define loss function helpers\n",
        "\n",
        "def mean_nll(logits, y):\n",
        "  return nn.functional.binary_cross_entropy_with_logits(logits, y)\n",
        "\n",
        "def mean_accuracy(logits, y):\n",
        "  preds = (logits > 0.).float()\n",
        "  return ((preds - y).abs() < 1e-2).float().mean()\n",
        "\n",
        "def penalty(logits, y):\n",
        "  if use_cuda:\n",
        "    scale = torch.tensor(1.).cuda().requires_grad_()\n",
        "  else:\n",
        "    scale = torch.tensor(1.).requires_grad_()\n",
        "  loss = mean_nll(logits * scale, y)\n",
        "  grad = autograd.grad(loss, [scale], create_graph=True)[0]\n",
        "  return torch.sum(grad**2)"
      ],
      "execution_count": 0,
      "outputs": []
    },
    {
      "cell_type": "code",
      "metadata": {
        "id": "1ZqzKP-rbhY8",
        "colab_type": "code",
        "colab": {
          "base_uri": "https://localhost:8080/",
          "height": 139
        },
        "outputId": "3c08a9c9-28ca-4f8e-bbdf-789a83c27ef9"
      },
      "source": [
        "# Train loop\n",
        "def pretty_print(*values):\n",
        "  col_width = 13\n",
        "  def format_val(v):\n",
        "    if not isinstance(v, str):\n",
        "      v = np.array2string(v, precision=5, floatmode='fixed')\n",
        "    return v.ljust(col_width)\n",
        "  str_values = [format_val(v) for v in values]\n",
        "  print(\"   \".join(str_values))\n",
        "\n",
        "optimizer = optim.Adam(mlp.parameters(), lr=flags.lr)\n",
        "\n",
        "pretty_print('step', 'train nll', 'train acc', 'rex penalty', 'irmv1 penalty', 'test acc')\n",
        "\n",
        "i = 0\n",
        "for step in range(flags.steps):\n",
        "  n = i % num_batches\n",
        "  for edx, env in enumerate(envs):\n",
        "    if edx != len(envs) - 2:\n",
        "      logits = mlp(env['images'][n*flags.batch_size:(n+1)*flags.batch_size])\n",
        "      env['nll'] = mean_nll(logits, env['labels'][n*flags.batch_size:(n+1)*flags.batch_size])\n",
        "      env['acc'] = mean_accuracy(logits, env['labels'][n*flags.batch_size:(n+1)*flags.batch_size])\n",
        "      env['penalty'] = penalty(logits, env['labels'][n*flags.batch_size:(n+1)*flags.batch_size])\n",
        "    else:\n",
        "      # validation data に対してはこちら\n",
        "      logits = mlp(env['images'])\n",
        "      env['nll'] = mean_nll(logits, env['labels'])\n",
        "      env['acc'] = mean_accuracy(logits, env['labels'])\n",
        "      env['penalty'] = penalty(logits, env['labels'])\n",
        "  i+=1\n",
        "\n",
        "  # training data は envs[0] と envs[1]\n",
        "  train_nll = torch.stack([envs[0]['nll'], envs[1]['nll']]).mean()\n",
        "  train_acc = torch.stack([envs[0]['acc'], envs[1]['acc']]).mean()\n",
        "  irmv1_penalty = torch.stack([envs[0]['penalty'], envs[1]['penalty']]).mean()\n",
        "\n",
        "  if use_cuda:\n",
        "    weight_norm = torch.tensor(0.).cuda()\n",
        "  else:\n",
        "    weight_norm = torch.tensor(0.)\n",
        "  for w in mlp.parameters():\n",
        "    weight_norm += w.norm().pow(2)\n",
        "\n",
        "  loss1 = envs[0]['nll']\n",
        "  loss2 = envs[1]['nll']\n",
        "\n",
        "  if flags.early_loss_mean:\n",
        "    loss1 = loss1.mean()\n",
        "    loss2 = loss2.mean()\n",
        "\n",
        "  loss = 0.0\n",
        "  loss += flags.erm_amount * (loss1 + loss2)          # Loss の第一項: ERM term\n",
        "\n",
        "  loss += flags.l2_regularizer_weight * weight_norm   # Loss の第二項：weight regularization\n",
        "\n",
        "  penalty_weight = (flags.penalty_weight              # penalty 項は最初はすごく小さく途中から大きくする\n",
        "    if step >= flags.penalty_anneal_iters else 1.0)   # この重みは IRM/MinREx/VarREx 共通\n",
        "\n",
        "  if flags.mse:\n",
        "    rex_penalty = (loss1.mean() - loss2.mean()) ** 2  # Minimax REx\n",
        "  else:\n",
        "    rex_penalty = (loss1.mean() - loss2.mean()).abs() # Variance REx\n",
        "\n",
        "  if flags.rex:\n",
        "    loss += penalty_weight * rex_penalty\n",
        "  else:\n",
        "    loss += penalty_weight * irmv1_penalty\n",
        "\n",
        "  if penalty_weight > 1.0:                            # penalty weight >=1 なので if がなくても同じ\n",
        "    # Rescale the entire loss to keep gradients in a reasonable range\n",
        "    loss /= penalty_weight\n",
        "\n",
        "  optimizer.zero_grad()\n",
        "  loss.backward()\n",
        "  optimizer.step()\n",
        "  \n",
        "  test_acc = envs[2]['acc']\n",
        "  grayscale_test_acc = envs[3]['acc']\n",
        "\n",
        "  # 以下はただ記録を保持するだけ\n",
        "  if step % flags.eval_interval == 0:\n",
        "    train_acc_scalar = train_acc.detach().cpu().numpy()\n",
        "    test_acc_scalar = test_acc.detach().cpu().numpy()\n",
        "    if flags.print_eval_intervals:\n",
        "      # ここで print する\n",
        "      pretty_print(\n",
        "        np.int32(step),\n",
        "        train_nll.detach().cpu().numpy(),\n",
        "        train_acc.detach().cpu().numpy(),\n",
        "        rex_penalty.detach().cpu().numpy(),\n",
        "        irmv1_penalty.detach().cpu().numpy(),\n",
        "        test_acc.detach().cpu().numpy()\n",
        "      )\n",
        "    if (train_acc_scalar >= test_acc_scalar) and (test_acc_scalar > highest_test_acc):\n",
        "      highest_test_acc = test_acc_scalar\n",
        "\n",
        "  if flags.plot or flags.save_numpy_log:\n",
        "    all_train_nlls[restart, step] = train_nll.detach().cpu().numpy()\n",
        "    all_train_accs[restart, step] = train_acc.detach().cpu().numpy()\n",
        "    all_rex_penalties[restart, step] = rex_penalty.detach().cpu().numpy()\n",
        "    all_irmv1_penalties[restart, step] = irmv1_penalty.detach().cpu().numpy()\n",
        "    all_test_accs[restart, step] = test_acc.detach().cpu().numpy()\n",
        "    all_grayscale_test_accs[restart, step] = grayscale_test_acc.detach().cpu().numpy()\n"
      ],
      "execution_count": 41,
      "outputs": [
        {
          "output_type": "stream",
          "text": [
            "step            train nll       train acc       rex penalty     irmv1 penalty   test acc     \n",
            "0               0.69067         0.50612         4.57163e-06     1.07385e-05     0.48830      \n",
            "100             0.36432         0.85030         0.01545         0.00392         0.11430      \n",
            "200             0.56876         0.71908         5.31564e-07     0.00105         0.68400      \n",
            "300             0.56717         0.72090         1.19184e-07     0.00116         0.68530      \n",
            "400             0.56402         0.72282         1.17871e-07     0.00135         0.68440      \n",
            "500             0.56068         0.72476         1.14659e-07     0.00154         0.68280      \n"
          ],
          "name": "stdout"
        }
      ]
    },
    {
      "cell_type": "code",
      "metadata": {
        "id": "MLSMClLMcZkw",
        "colab_type": "code",
        "colab": {
          "base_uri": "https://localhost:8080/",
          "height": 295
        },
        "outputId": "7a35648b-3f1e-4455-e833-73c787ebdb33"
      },
      "source": [
        "plot_x = np.linspace(0, flags.steps, flags.steps)\n",
        "from pylab import *\n",
        "\n",
        "figure()\n",
        "xlabel('epoch')\n",
        "ylabel('loss')\n",
        "title('train/test accuracy')\n",
        "# 元のコードは平均をとっているが今回は restart を 10 回分とっていないことに注意\n",
        "plot(plot_x, all_train_accs[0], ls=\"dotted\", label='train_acc')\n",
        "plot(plot_x, all_test_accs[0], label='test_acc')\n",
        "plot(plot_x, all_grayscale_test_accs[0], ls=\"--\", label='grayscale_test_acc')\n",
        "legend(prop={'size': 11}, loc=\"upper right\")\n",
        "savefig('train_acc__test_acc.pdf')"
      ],
      "execution_count": 45,
      "outputs": [
        {
          "output_type": "display_data",
          "data": {
            "image/png": "[encoded data removed]",
            "text/plain": [
              "<Figure size 432x288 with 1 Axes>"
            ]
          },
          "metadata": {
            "tags": [],
            "needs_background": "light"
          }
        }
      ]
    },
    {
      "cell_type": "code",
      "metadata": {
        "id": "bZu-JW9zh-Sd",
        "colab_type": "code",
        "colab": {}
      },
      "source": [
        ""
      ],
      "execution_count": 0,
      "outputs": []
    }
  ]
}