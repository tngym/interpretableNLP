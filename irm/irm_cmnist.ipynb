{
  "nbformat": 4,
  "nbformat_minor": 0,
  "metadata": {
    "colab": {
      "name": "irm_cmnist.ipynb",
      "provenance": [],
      "collapsed_sections": [],
      "authorship_tag": "ABX9TyPG/yqOhl+Ye5xmkHg+epdK",
      "include_colab_link": true
    },
    "kernelspec": {
      "name": "python3",
      "display_name": "Python 3"
    },
    "accelerator": "GPU"
  },
  "cells": [
    {
      "cell_type": "markdown",
      "metadata": {
        "id": "view-in-github",
        "colab_type": "text"
      },
      "source": [
        "<a href=\"https://colab.research.google.com/github/tngym/interpretableNLP/blob/master/irm_cmnist.ipynb\" target=\"_parent\"><img src=\"https://colab.research.google.com/assets/colab-badge.svg\" alt=\"Open In Colab\"/></a>"
      ]
    },
    {
      "cell_type": "code",
      "metadata": {
        "id": "M7G2Kuifzzy8",
        "colab_type": "code",
        "colab": {}
      },
      "source": [
        "# https://github.com/facebookresearch/InvariantRiskMinimization/blob/6aad47e689913b9bdad05880833530a5edac389e/code/colored_mnist/main.py\n",
        "import argparse\n",
        "import numpy as np\n",
        "import torch\n",
        "from torchvision import datasets\n",
        "from torch import nn, optim, autograd"
      ],
      "execution_count": 0,
      "outputs": []
    },
    {
      "cell_type": "code",
      "metadata": {
        "id": "9u3tyve54Rea",
        "colab_type": "code",
        "colab": {}
      },
      "source": [
        "from matplotlib import pyplot as plt\n",
        "%matplotlib inline"
      ],
      "execution_count": 0,
      "outputs": []
    },
    {
      "cell_type": "code",
      "metadata": {
        "id": "M2trEddU0DJ4",
        "colab_type": "code",
        "colab": {
          "base_uri": "https://localhost:8080/",
          "height": 34
        },
        "outputId": "e99b7e37-0663-4cf1-c0c7-45a21711a79a"
      },
      "source": [
        "parser = argparse.ArgumentParser(description='Colored MNIST')\n",
        "parser.add_argument('--hidden_dim', type=int, default=256)\n",
        "parser.add_argument('--l2_regularizer_weight', type=float,default=0.001)\n",
        "parser.add_argument('--lr', type=float, default=0.001)\n",
        "parser.add_argument('--n_restarts', type=int, default=10)\n",
        "parser.add_argument('--penalty_anneal_iters', type=int, default=100)\n",
        "parser.add_argument('--penalty_weight', type=float, default=10000.0)\n",
        "parser.add_argument('--steps', type=int, default=501)\n",
        "parser.add_argument('--grayscale_model', action='store_true')"
      ],
      "execution_count": 2,
      "outputs": [
        {
          "output_type": "execute_result",
          "data": {
            "text/plain": [
              "_StoreTrueAction(option_strings=['--grayscale_model'], dest='grayscale_model', nargs=0, const=True, default=False, type=None, choices=None, help=None, metavar=None)"
            ]
          },
          "metadata": {
            "tags": []
          },
          "execution_count": 2
        }
      ]
    },
    {
      "cell_type": "code",
      "metadata": {
        "id": "VkESwkxx0grh",
        "colab_type": "code",
        "colab": {}
      },
      "source": [
        "# https://github.com/facebookresearch/InvariantRiskMinimization/blob/6aad47e689913b9bdad05880833530a5edac389e/code/colored_mnist/reproduce_paper_results.sh#L10-L27\n",
        "import re\n",
        "args = \"\"\"--hidden_dim=390 \\\n",
        "  --l2_regularizer_weight=0.00110794568 \\\n",
        "  --lr=0.0004898536566546834 \\\n",
        "  --penalty_anneal_iters=190 \\\n",
        "  --penalty_weight=91257.18613115903 \\\n",
        "  --steps=501\n",
        "\"\"\"\n",
        "args = re.split(\"\\s+|=\", args)\n",
        "args = [e for e in args if e]\n",
        "flags = parser.parse_args(args=args)"
      ],
      "execution_count": 0,
      "outputs": []
    },
    {
      "cell_type": "code",
      "metadata": {
        "id": "l5n3LbsF0kNh",
        "colab_type": "code",
        "colab": {
          "base_uri": "https://localhost:8080/",
          "height": 174
        },
        "outputId": "83ea93d3-63be-4076-ebfa-5065933edc81"
      },
      "source": [
        "print('Flags:')\n",
        "for k,v in sorted(vars(flags).items()):\n",
        "  print(\"\\t{}: {}\".format(k, v))"
      ],
      "execution_count": 4,
      "outputs": [
        {
          "output_type": "stream",
          "text": [
            "Flags:\n",
            "\tgrayscale_model: False\n",
            "\thidden_dim: 390\n",
            "\tl2_regularizer_weight: 0.00110794568\n",
            "\tlr: 0.0004898536566546834\n",
            "\tn_restarts: 10\n",
            "\tpenalty_anneal_iters: 190\n",
            "\tpenalty_weight: 91257.18613115903\n",
            "\tsteps: 501\n"
          ],
          "name": "stdout"
        }
      ]
    },
    {
      "cell_type": "code",
      "metadata": {
        "id": "owmteCHn2_Yp",
        "colab_type": "code",
        "colab": {}
      },
      "source": [
        "# 元のコードでは 10 回回して平均をとっているがとりあえず 1 回回す\n",
        "restart = 0"
      ],
      "execution_count": 0,
      "outputs": []
    },
    {
      "cell_type": "code",
      "metadata": {
        "id": "C9sbv4hW1Jyy",
        "colab_type": "code",
        "colab": {}
      },
      "source": [
        "# Load MNIST, make train/val splits, and shuffle train set examples\n",
        "\n",
        "mnist = datasets.MNIST('~/datasets/mnist', train=True, download=True)\n",
        "mnist_train = (mnist.data[:50000], mnist.targets[:50000])\n",
        "mnist_val = (mnist.data[50000:], mnist.targets[50000:])\n",
        "\n",
        "rng_state = np.random.get_state()\n",
        "np.random.shuffle(mnist_train[0].numpy())\n",
        "np.random.set_state(rng_state)\n",
        "np.random.shuffle(mnist_train[1].numpy())"
      ],
      "execution_count": 0,
      "outputs": []
    },
    {
      "cell_type": "code",
      "metadata": {
        "id": "PLVAfxvo3PFb",
        "colab_type": "code",
        "colab": {}
      },
      "source": [
        "# Build environments\n",
        "\n",
        "def make_environment(images, labels, e):\n",
        "  # 二値ラベルを付けるための関数\n",
        "  def torch_bernoulli(p, size):\n",
        "    return (torch.rand(size) < p).float()\n",
        "  def torch_xor(a, b):\n",
        "    return (a-b).abs() # Assumes both inputs are either 0 or 1\n",
        "  # 2x subsample for computational convenience\n",
        "  images = images.reshape((-1, 28, 28))[:, ::2, ::2]\n",
        "  # Assign a binary label based on the digit; flip label with probability 0.25\n",
        "  labels = (labels < 5).float()\n",
        "  labels = torch_xor(labels, torch_bernoulli(0.25, len(labels)))\n",
        "  # Assign a color based on the label; flip the color with probability e\n",
        "  colors = torch_xor(labels, torch_bernoulli(e, len(labels)))\n",
        "  # Apply the color to the image by zeroing out the other color channel\n",
        "  images = torch.stack([images, images], dim=1)\n",
        "  images[torch.tensor(range(len(images))), (1-colors).long(), :, :] *= 0\n",
        "  return {\n",
        "    'images': (images.float() / 255.).cuda(),\n",
        "    'labels': labels[:, None].cuda()\n",
        "  }\n",
        "\n",
        "envs = [\n",
        "  make_environment(mnist_train[0][::2], mnist_train[1][::2], 0.2),  # [::2] は 1 個飛ばし\n",
        "  make_environment(mnist_train[0][1::2], mnist_train[1][1::2], 0.1),\n",
        "  make_environment(mnist_val[0], mnist_val[1], 0.9)\n",
        "]"
      ],
      "execution_count": 0,
      "outputs": []
    },
    {
      "cell_type": "code",
      "metadata": {
        "id": "nKrK05XB3lQA",
        "colab_type": "code",
        "colab": {
          "base_uri": "https://localhost:8080/",
          "height": 122
        },
        "outputId": "13ec187e-4315-44bd-dc97-ed60c9e2c0cd"
      },
      "source": [
        "print(\"元の画像\")\n",
        "display(mnist_train[0].shape)\n",
        "display(mnist_val[0].shape)\n",
        "print(\"色付き画像：色の分だけ次元が増えている\")\n",
        "display(envs[0][\"images\"].shape)\n",
        "display(envs[2][\"images\"].shape)"
      ],
      "execution_count": 62,
      "outputs": [
        {
          "output_type": "stream",
          "text": [
            "元の画像\n"
          ],
          "name": "stdout"
        },
        {
          "output_type": "display_data",
          "data": {
            "text/plain": [
              "torch.Size([50000, 28, 28])"
            ]
          },
          "metadata": {
            "tags": []
          }
        },
        {
          "output_type": "display_data",
          "data": {
            "text/plain": [
              "torch.Size([10000, 28, 28])"
            ]
          },
          "metadata": {
            "tags": []
          }
        },
        {
          "output_type": "stream",
          "text": [
            "色付き画像：色の分だけ次元が増えている\n"
          ],
          "name": "stdout"
        },
        {
          "output_type": "display_data",
          "data": {
            "text/plain": [
              "torch.Size([25000, 2, 14, 14])"
            ]
          },
          "metadata": {
            "tags": []
          }
        },
        {
          "output_type": "display_data",
          "data": {
            "text/plain": [
              "torch.Size([10000, 2, 14, 14])"
            ]
          },
          "metadata": {
            "tags": []
          }
        }
      ]
    },
    {
      "cell_type": "code",
      "metadata": {
        "id": "tWKPiQu34VRE",
        "colab_type": "code",
        "colab": {
          "base_uri": "https://localhost:8080/",
          "height": 282
        },
        "outputId": "d243c573-3fd4-4b0d-ebda-443ccfeeb19e"
      },
      "source": [
        "# 元の画像\n",
        "plt.imshow(mnist_train[0][100].numpy())"
      ],
      "execution_count": 58,
      "outputs": [
        {
          "output_type": "execute_result",
          "data": {
            "text/plain": [
              "<matplotlib.image.AxesImage at 0x7fec36347c18>"
            ]
          },
          "metadata": {
            "tags": []
          },
          "execution_count": 58
        },
        {
          "output_type": "display_data",
          "data": {
            "image/png": "[encoded data removed]",
            "text/plain": [
              "<Figure size 432x288 with 1 Axes>"
            ]
          },
          "metadata": {
            "tags": [],
            "needs_background": "light"
          }
        }
      ]
    },
    {
      "cell_type": "markdown",
      "metadata": {
        "id": "NwbSntnu-6Lo",
        "colab_type": "text"
      },
      "source": [
        "CMNIST, env=1 の画像\n",
        "\n",
        "- 元の数字（0~9）と二値のラベル(x<5 or x>=5) の間に 25% の noise が乗っているので数字とラベルはほとんど対応していないように見える\n",
        "- 一方でラベルと色（画像が左右どちらに表示されているか）は相関 90% なので label=1 なら 90% の確率で右に画像が表示されている"
      ]
    },
    {
      "cell_type": "code",
      "metadata": {
        "id": "6kxUuptx3cVy",
        "colab_type": "code",
        "colab": {
          "base_uri": "https://localhost:8080/",
          "height": 1000
        },
        "outputId": "34feab49-8c8a-41e2-e835-c1811d04c4f4"
      },
      "source": [
        "def _show(img_id, env_id):\n",
        "  print(f\"label: {envs[env_id]['labels'][img_id][0]}\")\n",
        "  fig, axs = plt.subplots(1, 2, figsize = (2, 2))\n",
        "  axs[0].imshow(envs[env_id][\"images\"][img_id][0].cpu().numpy())\n",
        "  axs[1].imshow(envs[env_id][\"images\"][img_id][1].cpu().numpy())\n",
        "  plt.show();\n",
        "\n",
        "for i in range(100, 120):\n",
        "  _show(i, 1)"
      ],
      "execution_count": 68,
      "outputs": [
        {
          "output_type": "stream",
          "text": [
            "label: 1.0\n"
          ],
          "name": "stdout"
        },
        {
          "output_type": "display_data",
          "data": {
            "image/png": "[encoded data removed]",
            "text/plain": [
              "<Figure size 144x144 with 2 Axes>"
            ]
          },
          "metadata": {
            "tags": [],
            "needs_background": "light"
          }
        },
        {
          "output_type": "stream",
          "text": [
            "label: 1.0\n"
          ],
          "name": "stdout"
        },
        {
          "output_type": "display_data",
          "data": {
            "image/png": "[encoded data removed]",
            "text/plain": [
              "<Figure size 144x144 with 2 Axes>"
            ]
          },
          "metadata": {
            "tags": [],
            "needs_background": "light"
          }
        },
        {
          "output_type": "stream",
          "text": [
            "label: 1.0\n"
          ],
          "name": "stdout"
        },
        {
          "output_type": "display_data",
          "data": {
            "image/png": "[encoded data removed]",
            "text/plain": [
              "<Figure size 144x144 with 2 Axes>"
            ]
          },
          "metadata": {
            "tags": [],
            "needs_background": "light"
          }
        },
        {
          "output_type": "stream",
          "text": [
            "label: 1.0\n"
          ],
          "name": "stdout"
        },
        {
          "output_type": "display_data",
          "data": {
            "image/png": "[encoded data removed]",
            "text/plain": [
              "<Figure size 144x144 with 2 Axes>"
            ]
          },
          "metadata": {
            "tags": [],
            "needs_background": "light"
          }
        },
        {
          "output_type": "stream",
          "text": [
            "label: 0.0\n"
          ],
          "name": "stdout"
        },
        {
          "output_type": "display_data",
          "data": {
            "image/png": "[encoded data removed]",
            "text/plain": [
              "<Figure size 144x144 with 2 Axes>"
            ]
          },
          "metadata": {
            "tags": [],
            "needs_background": "light"
          }
        },
        {
          "output_type": "stream",
          "text": [
            "label: 0.0\n"
          ],
          "name": "stdout"
        },
        {
          "output_type": "display_data",
          "data": {
            "image/png": "[encoded data removed]",
            "text/plain": [
              "<Figure size 144x144 with 2 Axes>"
            ]
          },
          "metadata": {
            "tags": [],
            "needs_background": "light"
          }
        },
        {
          "output_type": "stream",
          "text": [
            "label: 0.0\n"
          ],
          "name": "stdout"
        },
        {
          "output_type": "display_data",
          "data": {
            "image/png": "[encoded data removed]",
            "text/plain": [
              "<Figure size 144x144 with 2 Axes>"
            ]
          },
          "metadata": {
            "tags": [],
            "needs_background": "light"
          }
        },
        {
          "output_type": "stream",
          "text": [
            "label: 1.0\n"
          ],
          "name": "stdout"
        },
        {
          "output_type": "display_data",
          "data": {
            "image/png": "[encoded data removed]",
            "text/plain": [
              "<Figure size 144x144 with 2 Axes>"
            ]
          },
          "metadata": {
            "tags": [],
            "needs_background": "light"
          }
        },
        {
          "output_type": "stream",
          "text": [
            "label: 0.0\n"
          ],
          "name": "stdout"
        },
        {
          "output_type": "display_data",
          "data": {
            "image/png": "[encoded data removed]",
            "text/plain": [
              "<Figure size 144x144 with 2 Axes>"
            ]
          },
          "metadata": {
            "tags": [],
            "needs_background": "light"
          }
        },
        {
          "output_type": "stream",
          "text": [
            "label: 0.0\n"
          ],
          "name": "stdout"
        },
        {
          "output_type": "display_data",
          "data": {
            "image/png": "[encoded data removed]",
            "text/plain": [
              "<Figure size 144x144 with 2 Axes>"
            ]
          },
          "metadata": {
            "tags": [],
            "needs_background": "light"
          }
        },
        {
          "output_type": "stream",
          "text": [
            "label: 1.0\n"
          ],
          "name": "stdout"
        },
        {
          "output_type": "display_data",
          "data": {
            "image/png": "[encoded data removed]",
            "text/plain": [
              "<Figure size 144x144 with 2 Axes>"
            ]
          },
          "metadata": {
            "tags": [],
            "needs_background": "light"
          }
        },
        {
          "output_type": "stream",
          "text": [
            "label: 1.0\n"
          ],
          "name": "stdout"
        },
        {
          "output_type": "display_data",
          "data": {
            "image/png": "[encoded data removed]",
            "text/plain": [
              "<Figure size 144x144 with 2 Axes>"
            ]
          },
          "metadata": {
            "tags": [],
            "needs_background": "light"
          }
        },
        {
          "output_type": "stream",
          "text": [
            "label: 1.0\n"
          ],
          "name": "stdout"
        },
        {
          "output_type": "display_data",
          "data": {
            "image/png": "[encoded data removed]",
            "text/plain": [
              "<Figure size 144x144 with 2 Axes>"
            ]
          },
          "metadata": {
            "tags": [],
            "needs_background": "light"
          }
        },
        {
          "output_type": "stream",
          "text": [
            "label: 1.0\n"
          ],
          "name": "stdout"
        },
        {
          "output_type": "display_data",
          "data": {
            "image/png": "[encoded data removed]",
            "text/plain": [
              "<Figure size 144x144 with 2 Axes>"
            ]
          },
          "metadata": {
            "tags": [],
            "needs_background": "light"
          }
        },
        {
          "output_type": "stream",
          "text": [
            "label: 0.0\n"
          ],
          "name": "stdout"
        },
        {
          "output_type": "display_data",
          "data": {
            "image/png": "[encoded data removed]",
            "text/plain": [
              "<Figure size 144x144 with 2 Axes>"
            ]
          },
          "metadata": {
            "tags": [],
            "needs_background": "light"
          }
        },
        {
          "output_type": "stream",
          "text": [
            "label: 1.0\n"
          ],
          "name": "stdout"
        },
        {
          "output_type": "display_data",
          "data": {
            "image/png": "[encoded data removed]",
            "text/plain": [
              "<Figure size 144x144 with 2 Axes>"
            ]
          },
          "metadata": {
            "tags": [],
            "needs_background": "light"
          }
        },
        {
          "output_type": "stream",
          "text": [
            "label: 1.0\n"
          ],
          "name": "stdout"
        },
        {
          "output_type": "display_data",
          "data": {
            "image/png": "[encoded data removed]",
            "text/plain": [
              "<Figure size 144x144 with 2 Axes>"
            ]
          },
          "metadata": {
            "tags": [],
            "needs_background": "light"
          }
        },
        {
          "output_type": "stream",
          "text": [
            "label: 1.0\n"
          ],
          "name": "stdout"
        },
        {
          "output_type": "display_data",
          "data": {
            "image/png": "[encoded data removed]",
            "text/plain": [
              "<Figure size 144x144 with 2 Axes>"
            ]
          },
          "metadata": {
            "tags": [],
            "needs_background": "light"
          }
        },
        {
          "output_type": "stream",
          "text": [
            "label: 1.0\n"
          ],
          "name": "stdout"
        },
        {
          "output_type": "display_data",
          "data": {
            "image/png": "[encoded data removed]",
            "text/plain": [
              "<Figure size 144x144 with 2 Axes>"
            ]
          },
          "metadata": {
            "tags": [],
            "needs_background": "light"
          }
        },
        {
          "output_type": "stream",
          "text": [
            "label: 1.0\n"
          ],
          "name": "stdout"
        },
        {
          "output_type": "display_data",
          "data": {
            "image/png": "[encoded data removed]",
            "text/plain": [
              "<Figure size 144x144 with 2 Axes>"
            ]
          },
          "metadata": {
            "tags": [],
            "needs_background": "light"
          }
        }
      ]
    },
    {
      "cell_type": "code",
      "metadata": {
        "id": "aXICmkX14ssW",
        "colab_type": "code",
        "colab": {}
      },
      "source": [
        "# Define and instantiate the model\n",
        "\n",
        "class MLP(nn.Module):\n",
        "  def __init__(self):\n",
        "    super(MLP, self).__init__()\n",
        "    if flags.grayscale_model:\n",
        "      lin1 = nn.Linear(14 * 14, flags.hidden_dim)\n",
        "    else:\n",
        "      lin1 = nn.Linear(2 * 14 * 14, flags.hidden_dim)\n",
        "    lin2 = nn.Linear(flags.hidden_dim, flags.hidden_dim)\n",
        "    lin3 = nn.Linear(flags.hidden_dim, 1)\n",
        "    for lin in [lin1, lin2, lin3]:\n",
        "      nn.init.xavier_uniform_(lin.weight)\n",
        "      nn.init.zeros_(lin.bias)\n",
        "    self._main = nn.Sequential(lin1, nn.ReLU(True), lin2, nn.ReLU(True), lin3)\n",
        "  def forward(self, input):\n",
        "    if flags.grayscale_model:\n",
        "      out = input.view(input.shape[0], 2, 14 * 14).sum(dim=1)\n",
        "    else:\n",
        "      out = input.view(input.shape[0], 2 * 14 * 14)\n",
        "    out = self._main(out)\n",
        "    return out\n",
        "\n",
        "mlp = MLP().cuda()"
      ],
      "execution_count": 0,
      "outputs": []
    },
    {
      "cell_type": "markdown",
      "metadata": {
        "id": "K0BkWLtg_6bj",
        "colab_type": "text"
      },
      "source": [
        "IRM における penalty は以下で定義"
      ]
    },
    {
      "cell_type": "code",
      "metadata": {
        "id": "dPLOBcG--d2G",
        "colab_type": "code",
        "colab": {}
      },
      "source": [
        "# Define loss function helpers\n",
        "\n",
        "def mean_nll(logits, y):\n",
        "  return nn.functional.binary_cross_entropy_with_logits(logits, y)\n",
        "\n",
        "def mean_accuracy(logits, y):\n",
        "  preds = (logits > 0.).float()\n",
        "  return ((preds - y).abs() < 1e-2).float().mean()\n",
        "\n",
        "def penalty(logits, y):\n",
        "  # これが IRM の一番の肝\n",
        "  scale = torch.tensor(1.).cuda().requires_grad_()\n",
        "  loss = mean_nll(logits * scale, y)\n",
        "  grad = autograd.grad(loss, [scale], create_graph=True)[0]  # 高階微分計算のため create_graph=True\n",
        "  return torch.sum(grad**2)\n"
      ],
      "execution_count": 0,
      "outputs": []
    },
    {
      "cell_type": "markdown",
      "metadata": {
        "id": "pHlgDJvb-1eQ",
        "colab_type": "text"
      },
      "source": [
        "計算は一瞬で終わる"
      ]
    },
    {
      "cell_type": "code",
      "metadata": {
        "id": "EuQJsiZa-gpT",
        "colab_type": "code",
        "colab": {
          "base_uri": "https://localhost:8080/",
          "height": 139
        },
        "outputId": "53013080-0841-474f-dafd-a3e4a86f5d3c"
      },
      "source": [
        "# Train loop\n",
        "\n",
        "def pretty_print(*values):\n",
        "  col_width = 13\n",
        "  def format_val(v):\n",
        "    if not isinstance(v, str):\n",
        "      v = np.array2string(v, precision=5, floatmode='fixed')\n",
        "    return v.ljust(col_width)\n",
        "  str_values = [format_val(v) for v in values]\n",
        "  print(\"   \".join(str_values))\n",
        "\n",
        "optimizer = optim.Adam(mlp.parameters(), lr=flags.lr)\n",
        "\n",
        "\n",
        "pretty_print('step', 'train nll', 'train acc', 'train penalty', 'test acc')\n",
        "\n",
        "\n",
        "for step in range(flags.steps):\n",
        "  for env in envs:\n",
        "    # 各 env で Fwd 計算して loss 計算\n",
        "    logits = mlp(env['images'])\n",
        "    env['nll'] = mean_nll(logits, env['labels'])\n",
        "    env['acc'] = mean_accuracy(logits, env['labels'])\n",
        "    env['penalty'] = penalty(logits, env['labels'])\n",
        "\n",
        "  train_nll = torch.stack([envs[0]['nll'], envs[1]['nll']]).mean()\n",
        "  train_acc = torch.stack([envs[0]['acc'], envs[1]['acc']]).mean()\n",
        "  train_penalty = torch.stack([envs[0]['penalty'], envs[1]['penalty']]).mean()\n",
        "\n",
        "  weight_norm = torch.tensor(0.).cuda()\n",
        "  for w in mlp.parameters():\n",
        "    weight_norm += w.norm().pow(2)\n",
        "\n",
        "  loss = train_nll.clone()\n",
        "  loss += flags.l2_regularizer_weight * weight_norm  # loss に weight normalization も追加\n",
        "  penalty_weight = (flags.penalty_weight \n",
        "      if step >= flags.penalty_anneal_iters else 1.0)\n",
        "  loss += penalty_weight * train_penalty  # loss に IRM の penalty 項も追加、最初はものすごく小さな penalty_weight\n",
        "  if penalty_weight > 1.0:\n",
        "    # Rescale the entire loss to keep gradients in a reasonable range\n",
        "    loss /= penalty_weight\n",
        "\n",
        "  optimizer.zero_grad()\n",
        "  loss.backward()\n",
        "  optimizer.step()\n",
        "  \n",
        "  test_acc = envs[2]['acc']\n",
        "  if step % 100 == 0:\n",
        "    pretty_print(\n",
        "      np.int32(step),\n",
        "      train_nll.detach().cpu().numpy(),\n",
        "      train_acc.detach().cpu().numpy(),\n",
        "      train_penalty.detach().cpu().numpy(),\n",
        "      test_acc.detach().cpu().numpy()\n",
        "    )"
      ],
      "execution_count": 73,
      "outputs": [
        {
          "output_type": "stream",
          "text": [
            "step            train nll       train acc       train penalty   test acc     \n",
            "0               0.70539         0.48702         0.00032         0.49020      \n",
            "100             0.39081         0.84696         0.00441         0.10520      \n",
            "200             0.37333         0.84126         0.00270         0.19690      \n",
            "300             0.57244         0.70416         2.50350e-08     0.66160      \n",
            "400             0.57274         0.70414         7.75488e-10     0.66350      \n",
            "500             0.57243         0.70444         7.57660e-10     0.66360      \n"
          ],
          "name": "stdout"
        }
      ]
    },
    {
      "cell_type": "code",
      "metadata": {
        "id": "rJ7cIyTF3H93",
        "colab_type": "code",
        "colab": {}
      },
      "source": [
        ""
      ],
      "execution_count": 0,
      "outputs": []
    }
  ]
}
