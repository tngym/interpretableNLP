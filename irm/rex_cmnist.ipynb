{
  "nbformat": 4,
  "nbformat_minor": 0,
  "metadata": {
    "colab": {
      "name": "rex_cmnist.ipynb",
      "provenance": [],
      "collapsed_sections": [],
      "authorship_tag": "ABX9TyMY/n21eJOs1O5q+k/CN8rn"
    },
    "kernelspec": {
      "name": "python3",
      "display_name": "Python 3"
    },
    "accelerator": "GPU",
    "widgets": {
      "application/vnd.jupyter.widget-state+json": {
        "b36c3c7556e1441b812c25efd0d1b740": {
          "model_module": "@jupyter-widgets/controls",
          "model_name": "HBoxModel",
          "state": {
            "_view_name": "HBoxView",
            "_dom_classes": [],
            "_model_name": "HBoxModel",
            "_view_module": "@jupyter-widgets/controls",
            "_model_module_version": "1.5.0",
            "_view_count": null,
            "_view_module_version": "1.5.0",
            "box_style": "",
            "layout": "IPY_MODEL_c6c2027046984d6aba2e94fafcc75089",
            "_model_module": "@jupyter-widgets/controls",
            "children": [
              "IPY_MODEL_8393abe9ea3945f49f92859399a357ca",
              "IPY_MODEL_7b7bb609e18a4d3f94609eddf7f9bbf1"
            ]
          }
        },
        "c6c2027046984d6aba2e94fafcc75089": {
          "model_module": "@jupyter-widgets/base",
          "model_name": "LayoutModel",
          "state": {
            "_view_name": "LayoutView",
            "grid_template_rows": null,
            "right": null,
            "justify_content": null,
            "_view_module": "@jupyter-widgets/base",
            "overflow": null,
            "_model_module_version": "1.2.0",
            "_view_count": null,
            "flex_flow": null,
            "width": null,
            "min_width": null,
            "border": null,
            "align_items": null,
            "bottom": null,
            "_model_module": "@jupyter-widgets/base",
            "top": null,
            "grid_column": null,
            "overflow_y": null,
            "overflow_x": null,
            "grid_auto_flow": null,
            "grid_area": null,
            "grid_template_columns": null,
            "flex": null,
            "_model_name": "LayoutModel",
            "justify_items": null,
            "grid_row": null,
            "max_height": null,
            "align_content": null,
            "visibility": null,
            "align_self": null,
            "height": null,
            "min_height": null,
            "padding": null,
            "grid_auto_rows": null,
            "grid_gap": null,
            "max_width": null,
            "order": null,
            "_view_module_version": "1.2.0",
            "grid_template_areas": null,
            "object_position": null,
            "object_fit": null,
            "grid_auto_columns": null,
            "margin": null,
            "display": null,
            "left": null
          }
        },
        "8393abe9ea3945f49f92859399a357ca": {
          "model_module": "@jupyter-widgets/controls",
          "model_name": "FloatProgressModel",
          "state": {
            "_view_name": "ProgressView",
            "style": "IPY_MODEL_76d41f4a1053449e93da27e2b79ff540",
            "_dom_classes": [],
            "description": "",
            "_model_name": "FloatProgressModel",
            "bar_style": "info",
            "max": 1,
            "_view_module": "@jupyter-widgets/controls",
            "_model_module_version": "1.5.0",
            "value": 1,
            "_view_count": null,
            "_view_module_version": "1.5.0",
            "orientation": "horizontal",
            "min": 0,
            "description_tooltip": null,
            "_model_module": "@jupyter-widgets/controls",
            "layout": "IPY_MODEL_2509c1d62d934031bd008eef6fb6ae5e"
          }
        },
        "7b7bb609e18a4d3f94609eddf7f9bbf1": {
          "model_module": "@jupyter-widgets/controls",
          "model_name": "HTMLModel",
          "state": {
            "_view_name": "HTMLView",
            "style": "IPY_MODEL_6723a50fe8bc43848fc4d8da590e160f",
            "_dom_classes": [],
            "description": "",
            "_model_name": "HTMLModel",
            "placeholder": "​",
            "_view_module": "@jupyter-widgets/controls",
            "_model_module_version": "1.5.0",
            "value": " 9920512/? [00:20&lt;00:00, 4215718.17it/s]",
            "_view_count": null,
            "_view_module_version": "1.5.0",
            "description_tooltip": null,
            "_model_module": "@jupyter-widgets/controls",
            "layout": "IPY_MODEL_751d15dc2c55440abffaa4127a5e0ae6"
          }
        },
        "76d41f4a1053449e93da27e2b79ff540": {
          "model_module": "@jupyter-widgets/controls",
          "model_name": "ProgressStyleModel",
          "state": {
            "_view_name": "StyleView",
            "_model_name": "ProgressStyleModel",
            "description_width": "initial",
            "_view_module": "@jupyter-widgets/base",
            "_model_module_version": "1.5.0",
            "_view_count": null,
            "_view_module_version": "1.2.0",
            "bar_color": null,
            "_model_module": "@jupyter-widgets/controls"
          }
        },
        "2509c1d62d934031bd008eef6fb6ae5e": {
          "model_module": "@jupyter-widgets/base",
          "model_name": "LayoutModel",
          "state": {
            "_view_name": "LayoutView",
            "grid_template_rows": null,
            "right": null,
            "justify_content": null,
            "_view_module": "@jupyter-widgets/base",
            "overflow": null,
            "_model_module_version": "1.2.0",
            "_view_count": null,
            "flex_flow": null,
            "width": null,
            "min_width": null,
            "border": null,
            "align_items": null,
            "bottom": null,
            "_model_module": "@jupyter-widgets/base",
            "top": null,
            "grid_column": null,
            "overflow_y": null,
            "overflow_x": null,
            "grid_auto_flow": null,
            "grid_area": null,
            "grid_template_columns": null,
            "flex": null,
            "_model_name": "LayoutModel",
            "justify_items": null,
            "grid_row": null,
            "max_height": null,
            "align_content": null,
            "visibility": null,
            "align_self": null,
            "height": null,
            "min_height": null,
            "padding": null,
            "grid_auto_rows": null,
            "grid_gap": null,
            "max_width": null,
            "order": null,
            "_view_module_version": "1.2.0",
            "grid_template_areas": null,
            "object_position": null,
            "object_fit": null,
            "grid_auto_columns": null,
            "margin": null,
            "display": null,
            "left": null
          }
        },
        "6723a50fe8bc43848fc4d8da590e160f": {
          "model_module": "@jupyter-widgets/controls",
          "model_name": "DescriptionStyleModel",
          "state": {
            "_view_name": "StyleView",
            "_model_name": "DescriptionStyleModel",
            "description_width": "",
            "_view_module": "@jupyter-widgets/base",
            "_model_module_version": "1.5.0",
            "_view_count": null,
            "_view_module_version": "1.2.0",
            "_model_module": "@jupyter-widgets/controls"
          }
        },
        "751d15dc2c55440abffaa4127a5e0ae6": {
          "model_module": "@jupyter-widgets/base",
          "model_name": "LayoutModel",
          "state": {
            "_view_name": "LayoutView",
            "grid_template_rows": null,
            "right": null,
            "justify_content": null,
            "_view_module": "@jupyter-widgets/base",
            "overflow": null,
            "_model_module_version": "1.2.0",
            "_view_count": null,
            "flex_flow": null,
            "width": null,
            "min_width": null,
            "border": null,
            "align_items": null,
            "bottom": null,
            "_model_module": "@jupyter-widgets/base",
            "top": null,
            "grid_column": null,
            "overflow_y": null,
            "overflow_x": null,
            "grid_auto_flow": null,
            "grid_area": null,
            "grid_template_columns": null,
            "flex": null,
            "_model_name": "LayoutModel",
            "justify_items": null,
            "grid_row": null,
            "max_height": null,
            "align_content": null,
            "visibility": null,
            "align_self": null,
            "height": null,
            "min_height": null,
            "padding": null,
            "grid_auto_rows": null,
            "grid_gap": null,
            "max_width": null,
            "order": null,
            "_view_module_version": "1.2.0",
            "grid_template_areas": null,
            "object_position": null,
            "object_fit": null,
            "grid_auto_columns": null,
            "margin": null,
            "display": null,
            "left": null
          }
        },
        "722ca739eeb84401852eb5039445522c": {
          "model_module": "@jupyter-widgets/controls",
          "model_name": "HBoxModel",
          "state": {
            "_view_name": "HBoxView",
            "_dom_classes": [],
            "_model_name": "HBoxModel",
            "_view_module": "@jupyter-widgets/controls",
            "_model_module_version": "1.5.0",
            "_view_count": null,
            "_view_module_version": "1.5.0",
            "box_style": "",
            "layout": "IPY_MODEL_8aa55f5acf6f4ed1856e437615eb2b20",
            "_model_module": "@jupyter-widgets/controls",
            "children": [
              "IPY_MODEL_612eca13854e446dbfd656e25947cfaa",
              "IPY_MODEL_fe4b7cf8a7084186b0e8e34e9c0a9b81"
            ]
          }
        },
        "8aa55f5acf6f4ed1856e437615eb2b20": {
          "model_module": "@jupyter-widgets/base",
          "model_name": "LayoutModel",
          "state": {
            "_view_name": "LayoutView",
            "grid_template_rows": null,
            "right": null,
            "justify_content": null,
            "_view_module": "@jupyter-widgets/base",
            "overflow": null,
            "_model_module_version": "1.2.0",
            "_view_count": null,
            "flex_flow": null,
            "width": null,
            "min_width": null,
            "border": null,
            "align_items": null,
            "bottom": null,
            "_model_module": "@jupyter-widgets/base",
            "top": null,
            "grid_column": null,
            "overflow_y": null,
            "overflow_x": null,
            "grid_auto_flow": null,
            "grid_area": null,
            "grid_template_columns": null,
            "flex": null,
            "_model_name": "LayoutModel",
            "justify_items": null,
            "grid_row": null,
            "max_height": null,
            "align_content": null,
            "visibility": null,
            "align_self": null,
            "height": null,
            "min_height": null,
            "padding": null,
            "grid_auto_rows": null,
            "grid_gap": null,
            "max_width": null,
            "order": null,
            "_view_module_version": "1.2.0",
            "grid_template_areas": null,
            "object_position": null,
            "object_fit": null,
            "grid_auto_columns": null,
            "margin": null,
            "display": null,
            "left": null
          }
        },
        "612eca13854e446dbfd656e25947cfaa": {
          "model_module": "@jupyter-widgets/controls",
          "model_name": "FloatProgressModel",
          "state": {
            "_view_name": "ProgressView",
            "style": "IPY_MODEL_09c9910e6a8e4ab99353ab9b0886f70a",
            "_dom_classes": [],
            "description": "",
            "_model_name": "FloatProgressModel",
            "bar_style": "success",
            "max": 1,
            "_view_module": "@jupyter-widgets/controls",
            "_model_module_version": "1.5.0",
            "value": 1,
            "_view_count": null,
            "_view_module_version": "1.5.0",
            "orientation": "horizontal",
            "min": 0,
            "description_tooltip": null,
            "_model_module": "@jupyter-widgets/controls",
            "layout": "IPY_MODEL_bcacb279e9244eeba124393b603351f4"
          }
        },
        "fe4b7cf8a7084186b0e8e34e9c0a9b81": {
          "model_module": "@jupyter-widgets/controls",
          "model_name": "HTMLModel",
          "state": {
            "_view_name": "HTMLView",
            "style": "IPY_MODEL_e19a7cf58b864c79962d815608ee04b8",
            "_dom_classes": [],
            "description": "",
            "_model_name": "HTMLModel",
            "placeholder": "​",
            "_view_module": "@jupyter-widgets/controls",
            "_model_module_version": "1.5.0",
            "value": " 32768/? [00:01&lt;00:00, 28219.60it/s]",
            "_view_count": null,
            "_view_module_version": "1.5.0",
            "description_tooltip": null,
            "_model_module": "@jupyter-widgets/controls",
            "layout": "IPY_MODEL_9278b88e19224b808947b1063cdc8ca5"
          }
        },
        "09c9910e6a8e4ab99353ab9b0886f70a": {
          "model_module": "@jupyter-widgets/controls",
          "model_name": "ProgressStyleModel",
          "state": {
            "_view_name": "StyleView",
            "_model_name": "ProgressStyleModel",
            "description_width": "initial",
            "_view_module": "@jupyter-widgets/base",
            "_model_module_version": "1.5.0",
            "_view_count": null,
            "_view_module_version": "1.2.0",
            "bar_color": null,
            "_model_module": "@jupyter-widgets/controls"
          }
        },
        "bcacb279e9244eeba124393b603351f4": {
          "model_module": "@jupyter-widgets/base",
          "model_name": "LayoutModel",
          "state": {
            "_view_name": "LayoutView",
            "grid_template_rows": null,
            "right": null,
            "justify_content": null,
            "_view_module": "@jupyter-widgets/base",
            "overflow": null,
            "_model_module_version": "1.2.0",
            "_view_count": null,
            "flex_flow": null,
            "width": null,
            "min_width": null,
            "border": null,
            "align_items": null,
            "bottom": null,
            "_model_module": "@jupyter-widgets/base",
            "top": null,
            "grid_column": null,
            "overflow_y": null,
            "overflow_x": null,
            "grid_auto_flow": null,
            "grid_area": null,
            "grid_template_columns": null,
            "flex": null,
            "_model_name": "LayoutModel",
            "justify_items": null,
            "grid_row": null,
            "max_height": null,
            "align_content": null,
            "visibility": null,
            "align_self": null,
            "height": null,
            "min_height": null,
            "padding": null,
            "grid_auto_rows": null,
            "grid_gap": null,
            "max_width": null,
            "order": null,
            "_view_module_version": "1.2.0",
            "grid_template_areas": null,
            "object_position": null,
            "object_fit": null,
            "grid_auto_columns": null,
            "margin": null,
            "display": null,
            "left": null
          }
        },
        "e19a7cf58b864c79962d815608ee04b8": {
          "model_module": "@jupyter-widgets/controls",
          "model_name": "DescriptionStyleModel",
          "state": {
            "_view_name": "StyleView",
            "_model_name": "DescriptionStyleModel",
            "description_width": "",
            "_view_module": "@jupyter-widgets/base",
            "_model_module_version": "1.5.0",
            "_view_count": null,
            "_view_module_version": "1.2.0",
            "_model_module": "@jupyter-widgets/controls"
          }
        },
        "9278b88e19224b808947b1063cdc8ca5": {
          "model_module": "@jupyter-widgets/base",
          "model_name": "LayoutModel",
          "state": {
            "_view_name": "LayoutView",
            "grid_template_rows": null,
            "right": null,
            "justify_content": null,
            "_view_module": "@jupyter-widgets/base",
            "overflow": null,
            "_model_module_version": "1.2.0",
            "_view_count": null,
            "flex_flow": null,
            "width": null,
            "min_width": null,
            "border": null,
            "align_items": null,
            "bottom": null,
            "_model_module": "@jupyter-widgets/base",
            "top": null,
            "grid_column": null,
            "overflow_y": null,
            "overflow_x": null,
            "grid_auto_flow": null,
            "grid_area": null,
            "grid_template_columns": null,
            "flex": null,
            "_model_name": "LayoutModel",
            "justify_items": null,
            "grid_row": null,
            "max_height": null,
            "align_content": null,
            "visibility": null,
            "align_self": null,
            "height": null,
            "min_height": null,
            "padding": null,
            "grid_auto_rows": null,
            "grid_gap": null,
            "max_width": null,
            "order": null,
            "_view_module_version": "1.2.0",
            "grid_template_areas": null,
            "object_position": null,
            "object_fit": null,
            "grid_auto_columns": null,
            "margin": null,
            "display": null,
            "left": null
          }
        },
        "a83487e590514d3fa75f621652d87c1d": {
          "model_module": "@jupyter-widgets/controls",
          "model_name": "HBoxModel",
          "state": {
            "_view_name": "HBoxView",
            "_dom_classes": [],
            "_model_name": "HBoxModel",
            "_view_module": "@jupyter-widgets/controls",
            "_model_module_version": "1.5.0",
            "_view_count": null,
            "_view_module_version": "1.5.0",
            "box_style": "",
            "layout": "IPY_MODEL_2fee9f09fef745b9a4cec05b57c4a5a6",
            "_model_module": "@jupyter-widgets/controls",
            "children": [
              "IPY_MODEL_57f08f814fc04b7f9e5a2d52c8c63b04",
              "IPY_MODEL_a41985f5600d4ed5b50c79634e1ec324"
            ]
          }
        },
        "2fee9f09fef745b9a4cec05b57c4a5a6": {
          "model_module": "@jupyter-widgets/base",
          "model_name": "LayoutModel",
          "state": {
            "_view_name": "LayoutView",
            "grid_template_rows": null,
            "right": null,
            "justify_content": null,
            "_view_module": "@jupyter-widgets/base",
            "overflow": null,
            "_model_module_version": "1.2.0",
            "_view_count": null,
            "flex_flow": null,
            "width": null,
            "min_width": null,
            "border": null,
            "align_items": null,
            "bottom": null,
            "_model_module": "@jupyter-widgets/base",
            "top": null,
            "grid_column": null,
            "overflow_y": null,
            "overflow_x": null,
            "grid_auto_flow": null,
            "grid_area": null,
            "grid_template_columns": null,
            "flex": null,
            "_model_name": "LayoutModel",
            "justify_items": null,
            "grid_row": null,
            "max_height": null,
            "align_content": null,
            "visibility": null,
            "align_self": null,
            "height": null,
            "min_height": null,
            "padding": null,
            "grid_auto_rows": null,
            "grid_gap": null,
            "max_width": null,
            "order": null,
            "_view_module_version": "1.2.0",
            "grid_template_areas": null,
            "object_position": null,
            "object_fit": null,
            "grid_auto_columns": null,
            "margin": null,
            "display": null,
            "left": null
          }
        },
        "57f08f814fc04b7f9e5a2d52c8c63b04": {
          "model_module": "@jupyter-widgets/controls",
          "model_name": "FloatProgressModel",
          "state": {
            "_view_name": "ProgressView",
            "style": "IPY_MODEL_148fe6ebf63742b1af3182eefa790389",
            "_dom_classes": [],
            "description": "",
            "_model_name": "FloatProgressModel",
            "bar_style": "success",
            "max": 1,
            "_view_module": "@jupyter-widgets/controls",
            "_model_module_version": "1.5.0",
            "value": 1,
            "_view_count": null,
            "_view_module_version": "1.5.0",
            "orientation": "horizontal",
            "min": 0,
            "description_tooltip": null,
            "_model_module": "@jupyter-widgets/controls",
            "layout": "IPY_MODEL_e69809dbc0a64dbba39f9e40374caff4"
          }
        },
        "a41985f5600d4ed5b50c79634e1ec324": {
          "model_module": "@jupyter-widgets/controls",
          "model_name": "HTMLModel",
          "state": {
            "_view_name": "HTMLView",
            "style": "IPY_MODEL_2363a50311fe4fdebebbddda43e46b18",
            "_dom_classes": [],
            "description": "",
            "_model_name": "HTMLModel",
            "placeholder": "​",
            "_view_module": "@jupyter-widgets/controls",
            "_model_module_version": "1.5.0",
            "value": " 1654784/? [00:00&lt;00:00, 1935169.99it/s]",
            "_view_count": null,
            "_view_module_version": "1.5.0",
            "description_tooltip": null,
            "_model_module": "@jupyter-widgets/controls",
            "layout": "IPY_MODEL_e30c576797df4334a5910248cdadbecb"
          }
        },
        "148fe6ebf63742b1af3182eefa790389": {
          "model_module": "@jupyter-widgets/controls",
          "model_name": "ProgressStyleModel",
          "state": {
            "_view_name": "StyleView",
            "_model_name": "ProgressStyleModel",
            "description_width": "initial",
            "_view_module": "@jupyter-widgets/base",
            "_model_module_version": "1.5.0",
            "_view_count": null,
            "_view_module_version": "1.2.0",
            "bar_color": null,
            "_model_module": "@jupyter-widgets/controls"
          }
        },
        "e69809dbc0a64dbba39f9e40374caff4": {
          "model_module": "@jupyter-widgets/base",
          "model_name": "LayoutModel",
          "state": {
            "_view_name": "LayoutView",
            "grid_template_rows": null,
            "right": null,
            "justify_content": null,
            "_view_module": "@jupyter-widgets/base",
            "overflow": null,
            "_model_module_version": "1.2.0",
            "_view_count": null,
            "flex_flow": null,
            "width": null,
            "min_width": null,
            "border": null,
            "align_items": null,
            "bottom": null,
            "_model_module": "@jupyter-widgets/base",
            "top": null,
            "grid_column": null,
            "overflow_y": null,
            "overflow_x": null,
            "grid_auto_flow": null,
            "grid_area": null,
            "grid_template_columns": null,
            "flex": null,
            "_model_name": "LayoutModel",
            "justify_items": null,
            "grid_row": null,
            "max_height": null,
            "align_content": null,
            "visibility": null,
            "align_self": null,
            "height": null,
            "min_height": null,
            "padding": null,
            "grid_auto_rows": null,
            "grid_gap": null,
            "max_width": null,
            "order": null,
            "_view_module_version": "1.2.0",
            "grid_template_areas": null,
            "object_position": null,
            "object_fit": null,
            "grid_auto_columns": null,
            "margin": null,
            "display": null,
            "left": null
          }
        },
        "2363a50311fe4fdebebbddda43e46b18": {
          "model_module": "@jupyter-widgets/controls",
          "model_name": "DescriptionStyleModel",
          "state": {
            "_view_name": "StyleView",
            "_model_name": "DescriptionStyleModel",
            "description_width": "",
            "_view_module": "@jupyter-widgets/base",
            "_model_module_version": "1.5.0",
            "_view_count": null,
            "_view_module_version": "1.2.0",
            "_model_module": "@jupyter-widgets/controls"
          }
        },
        "e30c576797df4334a5910248cdadbecb": {
          "model_module": "@jupyter-widgets/base",
          "model_name": "LayoutModel",
          "state": {
            "_view_name": "LayoutView",
            "grid_template_rows": null,
            "right": null,
            "justify_content": null,
            "_view_module": "@jupyter-widgets/base",
            "overflow": null,
            "_model_module_version": "1.2.0",
            "_view_count": null,
            "flex_flow": null,
            "width": null,
            "min_width": null,
            "border": null,
            "align_items": null,
            "bottom": null,
            "_model_module": "@jupyter-widgets/base",
            "top": null,
            "grid_column": null,
            "overflow_y": null,
            "overflow_x": null,
            "grid_auto_flow": null,
            "grid_area": null,
            "grid_template_columns": null,
            "flex": null,
            "_model_name": "LayoutModel",
            "justify_items": null,
            "grid_row": null,
            "max_height": null,
            "align_content": null,
            "visibility": null,
            "align_self": null,
            "height": null,
            "min_height": null,
            "padding": null,
            "grid_auto_rows": null,
            "grid_gap": null,
            "max_width": null,
            "order": null,
            "_view_module_version": "1.2.0",
            "grid_template_areas": null,
            "object_position": null,
            "object_fit": null,
            "grid_auto_columns": null,
            "margin": null,
            "display": null,
            "left": null
          }
        },
        "3656e19510a14b8fabf066cf2d5f3997": {
          "model_module": "@jupyter-widgets/controls",
          "model_name": "HBoxModel",
          "state": {
            "_view_name": "HBoxView",
            "_dom_classes": [],
            "_model_name": "HBoxModel",
            "_view_module": "@jupyter-widgets/controls",
            "_model_module_version": "1.5.0",
            "_view_count": null,
            "_view_module_version": "1.5.0",
            "box_style": "",
            "layout": "IPY_MODEL_643fbd7ba47741d892d8d14b269367d2",
            "_model_module": "@jupyter-widgets/controls",
            "children": [
              "IPY_MODEL_6ffa2fe4fc50458dbbc162e7fa48e125",
              "IPY_MODEL_79fc1da58b6c41489bf2a44348aedaf4"
            ]
          }
        },
        "643fbd7ba47741d892d8d14b269367d2": {
          "model_module": "@jupyter-widgets/base",
          "model_name": "LayoutModel",
          "state": {
            "_view_name": "LayoutView",
            "grid_template_rows": null,
            "right": null,
            "justify_content": null,
            "_view_module": "@jupyter-widgets/base",
            "overflow": null,
            "_model_module_version": "1.2.0",
            "_view_count": null,
            "flex_flow": null,
            "width": null,
            "min_width": null,
            "border": null,
            "align_items": null,
            "bottom": null,
            "_model_module": "@jupyter-widgets/base",
            "top": null,
            "grid_column": null,
            "overflow_y": null,
            "overflow_x": null,
            "grid_auto_flow": null,
            "grid_area": null,
            "grid_template_columns": null,
            "flex": null,
            "_model_name": "LayoutModel",
            "justify_items": null,
            "grid_row": null,
            "max_height": null,
            "align_content": null,
            "visibility": null,
            "align_self": null,
            "height": null,
            "min_height": null,
            "padding": null,
            "grid_auto_rows": null,
            "grid_gap": null,
            "max_width": null,
            "order": null,
            "_view_module_version": "1.2.0",
            "grid_template_areas": null,
            "object_position": null,
            "object_fit": null,
            "grid_auto_columns": null,
            "margin": null,
            "display": null,
            "left": null
          }
        },
        "6ffa2fe4fc50458dbbc162e7fa48e125": {
          "model_module": "@jupyter-widgets/controls",
          "model_name": "FloatProgressModel",
          "state": {
            "_view_name": "ProgressView",
            "style": "IPY_MODEL_0a8890dc523144389c6b3d983e147f54",
            "_dom_classes": [],
            "description": "  0%",
            "_model_name": "FloatProgressModel",
            "bar_style": "info",
            "max": 1,
            "_view_module": "@jupyter-widgets/controls",
            "_model_module_version": "1.5.0",
            "value": 0,
            "_view_count": null,
            "_view_module_version": "1.5.0",
            "orientation": "horizontal",
            "min": 0,
            "description_tooltip": null,
            "_model_module": "@jupyter-widgets/controls",
            "layout": "IPY_MODEL_47d4bc0c18034a7e880e6de8df31b9f2"
          }
        },
        "79fc1da58b6c41489bf2a44348aedaf4": {
          "model_module": "@jupyter-widgets/controls",
          "model_name": "HTMLModel",
          "state": {
            "_view_name": "HTMLView",
            "style": "IPY_MODEL_207f745d2dfb4c2282ccb239a6026b56",
            "_dom_classes": [],
            "description": "",
            "_model_name": "HTMLModel",
            "placeholder": "​",
            "_view_module": "@jupyter-widgets/controls",
            "_model_module_version": "1.5.0",
            "value": " 0/4542 [00:00&lt;?, ?it/s]",
            "_view_count": null,
            "_view_module_version": "1.5.0",
            "description_tooltip": null,
            "_model_module": "@jupyter-widgets/controls",
            "layout": "IPY_MODEL_2c44cd357935436eaead45b81db618b8"
          }
        },
        "0a8890dc523144389c6b3d983e147f54": {
          "model_module": "@jupyter-widgets/controls",
          "model_name": "ProgressStyleModel",
          "state": {
            "_view_name": "StyleView",
            "_model_name": "ProgressStyleModel",
            "description_width": "initial",
            "_view_module": "@jupyter-widgets/base",
            "_model_module_version": "1.5.0",
            "_view_count": null,
            "_view_module_version": "1.2.0",
            "bar_color": null,
            "_model_module": "@jupyter-widgets/controls"
          }
        },
        "47d4bc0c18034a7e880e6de8df31b9f2": {
          "model_module": "@jupyter-widgets/base",
          "model_name": "LayoutModel",
          "state": {
            "_view_name": "LayoutView",
            "grid_template_rows": null,
            "right": null,
            "justify_content": null,
            "_view_module": "@jupyter-widgets/base",
            "overflow": null,
            "_model_module_version": "1.2.0",
            "_view_count": null,
            "flex_flow": null,
            "width": null,
            "min_width": null,
            "border": null,
            "align_items": null,
            "bottom": null,
            "_model_module": "@jupyter-widgets/base",
            "top": null,
            "grid_column": null,
            "overflow_y": null,
            "overflow_x": null,
            "grid_auto_flow": null,
            "grid_area": null,
            "grid_template_columns": null,
            "flex": null,
            "_model_name": "LayoutModel",
            "justify_items": null,
            "grid_row": null,
            "max_height": null,
            "align_content": null,
            "visibility": null,
            "align_self": null,
            "height": null,
            "min_height": null,
            "padding": null,
            "grid_auto_rows": null,
            "grid_gap": null,
            "max_width": null,
            "order": null,
            "_view_module_version": "1.2.0",
            "grid_template_areas": null,
            "object_position": null,
            "object_fit": null,
            "grid_auto_columns": null,
            "margin": null,
            "display": null,
            "left": null
          }
        },
        "207f745d2dfb4c2282ccb239a6026b56": {
          "model_module": "@jupyter-widgets/controls",
          "model_name": "DescriptionStyleModel",
          "state": {
            "_view_name": "StyleView",
            "_model_name": "DescriptionStyleModel",
            "description_width": "",
            "_view_module": "@jupyter-widgets/base",
            "_model_module_version": "1.5.0",
            "_view_count": null,
            "_view_module_version": "1.2.0",
            "_model_module": "@jupyter-widgets/controls"
          }
        },
        "2c44cd357935436eaead45b81db618b8": {
          "model_module": "@jupyter-widgets/base",
          "model_name": "LayoutModel",
          "state": {
            "_view_name": "LayoutView",
            "grid_template_rows": null,
            "right": null,
            "justify_content": null,
            "_view_module": "@jupyter-widgets/base",
            "overflow": null,
            "_model_module_version": "1.2.0",
            "_view_count": null,
            "flex_flow": null,
            "width": null,
            "min_width": null,
            "border": null,
            "align_items": null,
            "bottom": null,
            "_model_module": "@jupyter-widgets/base",
            "top": null,
            "grid_column": null,
            "overflow_y": null,
            "overflow_x": null,
            "grid_auto_flow": null,
            "grid_area": null,
            "grid_template_columns": null,
            "flex": null,
            "_model_name": "LayoutModel",
            "justify_items": null,
            "grid_row": null,
            "max_height": null,
            "align_content": null,
            "visibility": null,
            "align_self": null,
            "height": null,
            "min_height": null,
            "padding": null,
            "grid_auto_rows": null,
            "grid_gap": null,
            "max_width": null,
            "order": null,
            "_view_module_version": "1.2.0",
            "grid_template_areas": null,
            "object_position": null,
            "object_fit": null,
            "grid_auto_columns": null,
            "margin": null,
            "display": null,
            "left": null
          }
        }
      }
    }
  },
  "cells": [
    {
      "cell_type": "code",
      "metadata": {
        "id": "8jP38pSUYPbj",
        "colab_type": "code",
        "colab": {
          "base_uri": "https://localhost:8080/",
          "height": 54
        },
        "outputId": "9abf820d-73e2-4b38-850b-a087ee64ed21"
      },
      "source": [
        "# https://github.com/capybaralet/REx_code_release/blob/802da4a45a92a1f7f2c50cb1aecf5a195ef65435/InvariantRiskMinimization/colored_mnist/main.py\n",
        "\n",
        "import argparse\n",
        "import numpy as np\n",
        "import torch\n",
        "import torch.nn.functional as F\n",
        "from torchvision import datasets\n",
        "from torch import nn, optim, autograd\n",
        "\n",
        "\n",
        "def str2bool(v):\n",
        "  return v.lower() in (\"yes\", \"true\", \"t\", \"1\")\n",
        "\n",
        "use_cuda = torch.cuda.is_available()\n",
        "\n",
        "parser = argparse.ArgumentParser(description='Colored MNIST')\n",
        "parser.add_argument('--hidden_dim', type=int, default=256)\n",
        "parser.add_argument('--l2_regularizer_weight', type=float,default=0.001)\n",
        "parser.add_argument('--lr', type=float, default=0.001)\n",
        "parser.add_argument('--n_restarts', type=int, default=10)\n",
        "parser.add_argument('--penalty_anneal_iters', type=int, default=100)\n",
        "parser.add_argument('--penalty_weight', type=float, default=10000.0)\n",
        "parser.add_argument('--steps', type=int, default=501)\n",
        "parser.add_argument('--grayscale_model', type=str2bool, default=False)\n",
        "parser.add_argument('--batch_size', type=int, default=25000)\n",
        "parser.add_argument('--train_set_size', type=int, default=50000)\n",
        "parser.add_argument('--eval_interval', type=int, default=100)\n",
        "parser.add_argument('--print_eval_intervals', type=str2bool, default=True)\n",
        "\n",
        "parser.add_argument('--train_env_1__color_noise', type=float, default=0.2)\n",
        "parser.add_argument('--train_env_2__color_noise', type=float, default=0.1)\n",
        "#parser.add_argument('--val_env__color_noise', type=float, default=0.1)\n",
        "parser.add_argument('--test_env__color_noise', type=float, default=0.9)\n",
        "\n",
        "parser.add_argument('--erm_amount', type=float, default=1.0)\n",
        "\n",
        "parser.add_argument('--early_loss_mean', type=str2bool, default=True)\n",
        "\n",
        "parser.add_argument('--rex', type=str2bool, default=True)\n",
        "parser.add_argument('--mse', type=str2bool, default=True)\n",
        "\n",
        "parser.add_argument('--plot', type=str2bool, default=True)\n",
        "parser.add_argument('--save_numpy_log', type=str2bool, default=True)\n"
      ],
      "execution_count": 9,
      "outputs": [
        {
          "output_type": "execute_result",
          "data": {
            "text/plain": [
              "_StoreAction(option_strings=['--save_numpy_log'], dest='save_numpy_log', nargs=None, const=None, default=True, type=<function str2bool at 0x7f5112e13a60>, choices=None, help=None, metavar=None)"
            ]
          },
          "metadata": {
            "tags": []
          },
          "execution_count": 9
        }
      ]
    },
    {
      "cell_type": "code",
      "metadata": {
        "id": "yWEXD8oBY2BP",
        "colab_type": "code",
        "colab": {}
      },
      "source": [
        "from matplotlib import pyplot as plt\n",
        "%matplotlib inline"
      ],
      "execution_count": 0,
      "outputs": []
    },
    {
      "cell_type": "code",
      "metadata": {
        "id": "9VERnHf4Y89r",
        "colab_type": "code",
        "colab": {
          "base_uri": "https://localhost:8080/",
          "height": 402
        },
        "outputId": "e7f8bbe7-d13d-4dd7-945a-049ec172d346"
      },
      "source": [
        "flags = parser.parse_args([])\n",
        "\n",
        "print('Flags:')\n",
        "for k,v in sorted(vars(flags).items()):\n",
        "  print(\"\\t{}: {}\".format(k, v))\n",
        "\n",
        "num_batches = (flags.train_set_size // 2) // flags.batch_size\n",
        "\n",
        "# TODO: logging\n",
        "all_train_nlls = -1*np.ones((flags.n_restarts, flags.steps))\n",
        "all_train_accs = -1*np.ones((flags.n_restarts, flags.steps))\n",
        "#all_train_penalties = -1*np.ones((flags.n_restarts, flags.steps))\n",
        "all_irmv1_penalties = -1*np.ones((flags.n_restarts, flags.steps))\n",
        "all_rex_penalties = -1*np.ones((flags.n_restarts, flags.steps))\n",
        "all_test_accs = -1*np.ones((flags.n_restarts, flags.steps))\n",
        "all_grayscale_test_accs = -1*np.ones((flags.n_restarts, flags.steps))\n",
        "\n",
        "final_train_accs = []\n",
        "final_test_accs = []\n",
        "highest_test_accs = []"
      ],
      "execution_count": 10,
      "outputs": [
        {
          "output_type": "stream",
          "text": [
            "Flags:\n",
            "\tbatch_size: 25000\n",
            "\tearly_loss_mean: True\n",
            "\term_amount: 1.0\n",
            "\teval_interval: 100\n",
            "\tgrayscale_model: False\n",
            "\thidden_dim: 256\n",
            "\tl2_regularizer_weight: 0.001\n",
            "\tlr: 0.001\n",
            "\tmse: True\n",
            "\tn_restarts: 10\n",
            "\tpenalty_anneal_iters: 100\n",
            "\tpenalty_weight: 10000.0\n",
            "\tplot: True\n",
            "\tprint_eval_intervals: True\n",
            "\trex: True\n",
            "\tsave_numpy_log: True\n",
            "\tsteps: 501\n",
            "\ttest_env__color_noise: 0.9\n",
            "\ttrain_env_1__color_noise: 0.2\n",
            "\ttrain_env_2__color_noise: 0.1\n",
            "\ttrain_set_size: 50000\n"
          ],
          "name": "stdout"
        }
      ]
    },
    {
      "cell_type": "code",
      "metadata": {
        "id": "0hv9qMW4Y-8G",
        "colab_type": "code",
        "colab": {}
      },
      "source": [
        "restart = 1"
      ],
      "execution_count": 0,
      "outputs": []
    },
    {
      "cell_type": "code",
      "metadata": {
        "id": "fkkb2xunZEGF",
        "colab_type": "code",
        "colab": {
          "base_uri": "https://localhost:8080/",
          "height": 392,
          "referenced_widgets": [
            "b36c3c7556e1441b812c25efd0d1b740",
            "c6c2027046984d6aba2e94fafcc75089",
            "8393abe9ea3945f49f92859399a357ca",
            "7b7bb609e18a4d3f94609eddf7f9bbf1",
            "76d41f4a1053449e93da27e2b79ff540",
            "2509c1d62d934031bd008eef6fb6ae5e",
            "6723a50fe8bc43848fc4d8da590e160f",
            "751d15dc2c55440abffaa4127a5e0ae6",
            "722ca739eeb84401852eb5039445522c",
            "8aa55f5acf6f4ed1856e437615eb2b20",
            "612eca13854e446dbfd656e25947cfaa",
            "fe4b7cf8a7084186b0e8e34e9c0a9b81",
            "09c9910e6a8e4ab99353ab9b0886f70a",
            "bcacb279e9244eeba124393b603351f4",
            "e19a7cf58b864c79962d815608ee04b8",
            "9278b88e19224b808947b1063cdc8ca5",
            "a83487e590514d3fa75f621652d87c1d",
            "2fee9f09fef745b9a4cec05b57c4a5a6",
            "57f08f814fc04b7f9e5a2d52c8c63b04",
            "a41985f5600d4ed5b50c79634e1ec324",
            "148fe6ebf63742b1af3182eefa790389",
            "e69809dbc0a64dbba39f9e40374caff4",
            "2363a50311fe4fdebebbddda43e46b18",
            "e30c576797df4334a5910248cdadbecb",
            "3656e19510a14b8fabf066cf2d5f3997",
            "643fbd7ba47741d892d8d14b269367d2",
            "6ffa2fe4fc50458dbbc162e7fa48e125",
            "79fc1da58b6c41489bf2a44348aedaf4",
            "0a8890dc523144389c6b3d983e147f54",
            "47d4bc0c18034a7e880e6de8df31b9f2",
            "207f745d2dfb4c2282ccb239a6026b56",
            "2c44cd357935436eaead45b81db618b8"
          ]
        },
        "outputId": "bf3f6201-6dc7-462f-fc80-ca7b9bc0b2b9"
      },
      "source": [
        "highest_test_acc = 0.0\n",
        "\n",
        "# Load MNIST, make train/val splits, and shuffle train set examples\n",
        "\n",
        "mnist = datasets.MNIST('~/datasets/mnist', train=True, download=True)\n",
        "mnist_train = (mnist.data[:50000], mnist.targets[:50000])\n",
        "mnist_val = (mnist.data[50000:], mnist.targets[50000:])\n",
        "\n",
        "rng_state = np.random.get_state()\n",
        "np.random.shuffle(mnist_train[0].numpy())\n",
        "np.random.set_state(rng_state)\n",
        "np.random.shuffle(mnist_train[1].numpy())"
      ],
      "execution_count": 12,
      "outputs": [
        {
          "output_type": "stream",
          "text": [
            "Downloading http://yann.lecun.com/exdb/mnist/train-images-idx3-ubyte.gz to /root/datasets/mnist/MNIST/raw/train-images-idx3-ubyte.gz\n"
          ],
          "name": "stdout"
        },
        {
          "output_type": "display_data",
          "data": {
            "application/vnd.jupyter.widget-view+json": {
              "model_id": "b36c3c7556e1441b812c25efd0d1b740",
              "version_minor": 0,
              "version_major": 2
            },
            "text/plain": [
              "HBox(children=(FloatProgress(value=1.0, bar_style='info', max=1.0), HTML(value='')))"
            ]
          },
          "metadata": {
            "tags": []
          }
        },
        {
          "output_type": "stream",
          "text": [
            "Extracting /root/datasets/mnist/MNIST/raw/train-images-idx3-ubyte.gz to /root/datasets/mnist/MNIST/raw\n",
            "Downloading http://yann.lecun.com/exdb/mnist/train-labels-idx1-ubyte.gz to /root/datasets/mnist/MNIST/raw/train-labels-idx1-ubyte.gz\n"
          ],
          "name": "stdout"
        },
        {
          "output_type": "display_data",
          "data": {
            "application/vnd.jupyter.widget-view+json": {
              "model_id": "722ca739eeb84401852eb5039445522c",
              "version_minor": 0,
              "version_major": 2
            },
            "text/plain": [
              "HBox(children=(FloatProgress(value=1.0, bar_style='info', max=1.0), HTML(value='')))"
            ]
          },
          "metadata": {
            "tags": []
          }
        },
        {
          "output_type": "stream",
          "text": [
            "Extracting /root/datasets/mnist/MNIST/raw/train-labels-idx1-ubyte.gz to /root/datasets/mnist/MNIST/raw\n",
            "Downloading http://yann.lecun.com/exdb/mnist/t10k-images-idx3-ubyte.gz to /root/datasets/mnist/MNIST/raw/t10k-images-idx3-ubyte.gz\n"
          ],
          "name": "stdout"
        },
        {
          "output_type": "display_data",
          "data": {
            "application/vnd.jupyter.widget-view+json": {
              "model_id": "a83487e590514d3fa75f621652d87c1d",
              "version_minor": 0,
              "version_major": 2
            },
            "text/plain": [
              "HBox(children=(FloatProgress(value=1.0, bar_style='info', max=1.0), HTML(value='')))"
            ]
          },
          "metadata": {
            "tags": []
          }
        },
        {
          "output_type": "stream",
          "text": [
            "Extracting /root/datasets/mnist/MNIST/raw/t10k-images-idx3-ubyte.gz to /root/datasets/mnist/MNIST/raw\n",
            "Downloading http://yann.lecun.com/exdb/mnist/t10k-labels-idx1-ubyte.gz to /root/datasets/mnist/MNIST/raw/t10k-labels-idx1-ubyte.gz\n",
            "\n",
            "\n"
          ],
          "name": "stdout"
        },
        {
          "output_type": "display_data",
          "data": {
            "application/vnd.jupyter.widget-view+json": {
              "model_id": "3656e19510a14b8fabf066cf2d5f3997",
              "version_minor": 0,
              "version_major": 2
            },
            "text/plain": [
              "HBox(children=(FloatProgress(value=1.0, bar_style='info', max=1.0), HTML(value='')))"
            ]
          },
          "metadata": {
            "tags": []
          }
        },
        {
          "output_type": "stream",
          "text": [
            "Extracting /root/datasets/mnist/MNIST/raw/t10k-labels-idx1-ubyte.gz to /root/datasets/mnist/MNIST/raw\n",
            "Processing...\n",
            "Done!\n"
          ],
          "name": "stdout"
        },
        {
          "output_type": "stream",
          "text": [
            "/pytorch/torch/csrc/utils/tensor_numpy.cpp:141: UserWarning: The given NumPy array is not writeable, and PyTorch does not support non-writeable tensors. This means you can write to the underlying (supposedly non-writeable) NumPy array using the tensor. You may want to copy the array to protect its data or make it writeable before converting it to a tensor. This type of warning will be suppressed for the rest of this program.\n"
          ],
          "name": "stderr"
        }
      ]
    },
    {
      "cell_type": "code",
      "metadata": {
        "id": "tgKWfnl4ZOTE",
        "colab_type": "code",
        "colab": {}
      },
      "source": [
        "# Build environments\n",
        "\n",
        "def make_environment(images, labels, e, grayscale_dup=False):\n",
        "  def torch_bernoulli(p, size):\n",
        "    return (torch.rand(size) < p).float()\n",
        "  def torch_xor(a, b):\n",
        "    return (a-b).abs() # Assumes both inputs are either 0 or 1\n",
        "  # 2x subsample for computational convenience\n",
        "  images = images.reshape((-1, 28, 28))[:, ::2, ::2]\n",
        "  # Assign a binary label based on the digit; flip label with probability 0.25\n",
        "  labels = (labels < 5).float()\n",
        "  labels = torch_xor(labels, torch_bernoulli(.25, len(labels)))\n",
        "  # Assign a color based on the label; flip the color with probability e\n",
        "  colors = torch_xor(labels, torch_bernoulli(e, len(labels)))\n",
        "  # Apply the color to the image by zeroing out the other color channel\n",
        "  images = torch.stack([images, images], dim=1)\n",
        "  if not grayscale_dup:\n",
        "    images[torch.tensor(range(len(images))), (1-colors).long(), :, :] *= 0\n",
        "  if use_cuda:\n",
        "    return {\n",
        "      'images': (images.float() / 255.).cuda(),\n",
        "      'labels': labels[:, None].cuda()\n",
        "    }\n",
        "  else:\n",
        "    return {\n",
        "      'images': (images.float() / 255.),\n",
        "      'labels': labels[:, None]\n",
        "    }\n",
        "\n",
        "envs = [\n",
        "  make_environment(mnist_train[0][::2], mnist_train[1][::2], flags.train_env_1__color_noise),\n",
        "  make_environment(mnist_train[0][1::2], mnist_train[1][1::2], flags.train_env_2__color_noise),\n",
        "  make_environment(mnist_val[0], mnist_val[1], flags.test_env__color_noise),\n",
        "  make_environment(mnist_val[0], mnist_val[1], flags.test_env__color_noise, grayscale_dup=True)\n",
        "]  \n"
      ],
      "execution_count": 0,
      "outputs": []
    },
    {
      "cell_type": "code",
      "metadata": {
        "id": "9Nq9SsqUa80f",
        "colab_type": "code",
        "colab": {
          "base_uri": "https://localhost:8080/",
          "height": 80
        },
        "outputId": "27f2d670-4311-44c5-aa1f-574004032d6e"
      },
      "source": [
        "fig, axs = plt.subplots(1, 10, figsize = (6, 6))\n",
        "for i in range(10):\n",
        "  axs[i].imshow(mnist_train[0][i].numpy())"
      ],
      "execution_count": 24,
      "outputs": [
        {
          "output_type": "display_data",
          "data": {
            "image/png": "[encoded data removed]",
            "text/plain": [
              "<Figure size 432x432 with 10 Axes>"
            ]
          },
          "metadata": {
            "tags": [],
            "needs_background": "light"
          }
        }
      ]
    },
    {
      "cell_type": "code",
      "metadata": {
        "id": "xqFxGZm0Z-Lm",
        "colab_type": "code",
        "colab": {
          "base_uri": "https://localhost:8080/",
          "height": 1000
        },
        "outputId": "761dfc7a-e9cc-48f1-ad9d-61b781733183"
      },
      "source": [
        "def _show(img_id, env_id):\n",
        "  print(f\"env: {env_id}, label: {envs[env_id]['labels'][img_id][0]}\")\n",
        "  fig, axs = plt.subplots(1, 2, figsize = (2, 2))\n",
        "  axs[0].imshow(envs[env_id][\"images\"][img_id][0].cpu().numpy())\n",
        "  axs[1].imshow(envs[env_id][\"images\"][img_id][1].cpu().numpy())\n",
        "  plt.show();\n",
        "\n",
        "for j in range(2):\n",
        "  for i in range(10):\n",
        "    _show(i, j)\n",
        "\n",
        "for i in range(10):\n",
        "  for j in range(2, 4):\n",
        "    _show(i, j)"
      ],
      "execution_count": 23,
      "outputs": [
        {
          "output_type": "stream",
          "text": [
            "env: 0, label: 0.0\n"
          ],
          "name": "stdout"
        },
        {
          "output_type": "display_data",
          "data": {
            "image/png": "[encoded data removed]",
            "text/plain": [
              "<Figure size 144x144 with 2 Axes>"
            ]
          },
          "metadata": {
            "tags": [],
            "needs_background": "light"
          }
        },
        {
          "output_type": "stream",
          "text": [
            "env: 0, label: 0.0\n"
          ],
          "name": "stdout"
        },
        {
          "output_type": "display_data",
          "data": {
            "image/png": "[encoded data removed]",
            "text/plain": [
              "<Figure size 144x144 with 2 Axes>"
            ]
          },
          "metadata": {
            "tags": [],
            "needs_background": "light"
          }
        },
        {
          "output_type": "stream",
          "text": [
            "env: 0, label: 0.0\n"
          ],
          "name": "stdout"
        },
        {
          "output_type": "display_data",
          "data": {
            "image/png": "[encoded data removed]",
            "text/plain": [
              "<Figure size 144x144 with 2 Axes>"
            ]
          },
          "metadata": {
            "tags": [],
            "needs_background": "light"
          }
        },
        {
          "output_type": "stream",
          "text": [
            "env: 0, label: 0.0\n"
          ],
          "name": "stdout"
        },
        {
          "output_type": "display_data",
          "data": {
            "image/png": "[encoded data removed]",
            "text/plain": [
              "<Figure size 144x144 with 2 Axes>"
            ]
          },
          "metadata": {
            "tags": [],
            "needs_background": "light"
          }
        },
        {
          "output_type": "stream",
          "text": [
            "env: 0, label: 1.0\n"
          ],
          "name": "stdout"
        },
        {
          "output_type": "display_data",
          "data": {
            "image/png": "[encoded data removed]",
            "text/plain": [
              "<Figure size 144x144 with 2 Axes>"
            ]
          },
          "metadata": {
            "tags": [],
            "needs_background": "light"
          }
        },
        {
          "output_type": "stream",
          "text": [
            "env: 0, label: 1.0\n"
          ],
          "name": "stdout"
        },
        {
          "output_type": "display_data",
          "data": {
            "image/png": "[encoded data removed]",
            "text/plain": [
              "<Figure size 144x144 with 2 Axes>"
            ]
          },
          "metadata": {
            "tags": [],
            "needs_background": "light"
          }
        },
        {
          "output_type": "stream",
          "text": [
            "env: 0, label: 1.0\n"
          ],
          "name": "stdout"
        },
        {
          "output_type": "display_data",
          "data": {
            "image/png": "[encoded data removed]",
            "text/plain": [
              "<Figure size 144x144 with 2 Axes>"
            ]
          },
          "metadata": {
            "tags": [],
            "needs_background": "light"
          }
        },
        {
          "output_type": "stream",
          "text": [
            "env: 0, label: 0.0\n"
          ],
          "name": "stdout"
        },
        {
          "output_type": "display_data",
          "data": {
            "image/png": "[encoded data removed]",
            "text/plain": [
              "<Figure size 144x144 with 2 Axes>"
            ]
          },
          "metadata": {
            "tags": [],
            "needs_background": "light"
          }
        },
        {
          "output_type": "stream",
          "text": [
            "env: 0, label: 0.0\n"
          ],
          "name": "stdout"
        },
        {
          "output_type": "display_data",
          "data": {
            "image/png": "[encoded data removed]",
            "text/plain": [
              "<Figure size 144x144 with 2 Axes>"
            ]
          },
          "metadata": {
            "tags": [],
            "needs_background": "light"
          }
        },
        {
          "output_type": "stream",
          "text": [
            "env: 0, label: 1.0\n"
          ],
          "name": "stdout"
        },
        {
          "output_type": "display_data",
          "data": {
            "image/png": "[encoded data removed]",
            "text/plain": [
              "<Figure size 144x144 with 2 Axes>"
            ]
          },
          "metadata": {
            "tags": [],
            "needs_background": "light"
          }
        },
        {
          "output_type": "stream",
          "text": [
            "env: 1, label: 1.0\n"
          ],
          "name": "stdout"
        },
        {
          "output_type": "display_data",
          "data": {
            "image/png": "[encoded data removed]",
            "text/plain": [
              "<Figure size 144x144 with 2 Axes>"
            ]
          },
          "metadata": {
            "tags": [],
            "needs_background": "light"
          }
        },
        {
          "output_type": "stream",
          "text": [
            "env: 1, label: 0.0\n"
          ],
          "name": "stdout"
        },
        {
          "output_type": "display_data",
          "data": {
            "image/png": "[encoded data removed]",
            "text/plain": [
              "<Figure size 144x144 with 2 Axes>"
            ]
          },
          "metadata": {
            "tags": [],
            "needs_background": "light"
          }
        },
        {
          "output_type": "stream",
          "text": [
            "env: 1, label: 0.0\n"
          ],
          "name": "stdout"
        },
        {
          "output_type": "display_data",
          "data": {
            "image/png": "[encoded data removed]",
            "text/plain": [
              "<Figure size 144x144 with 2 Axes>"
            ]
          },
          "metadata": {
            "tags": [],
            "needs_background": "light"
          }
        },
        {
          "output_type": "stream",
          "text": [
            "env: 1, label: 0.0\n"
          ],
          "name": "stdout"
        },
        {
          "output_type": "display_data",
          "data": {
            "image/png": "[encoded data removed]",
            "text/plain": [
              "<Figure size 144x144 with 2 Axes>"
            ]
          },
          "metadata": {
            "tags": [],
            "needs_background": "light"
          }
        },
        {
          "output_type": "stream",
          "text": [
            "env: 1, label: 0.0\n"
          ],
          "name": "stdout"
        },
        {
          "output_type": "display_data",
          "data": {
            "image/png": "[encoded data removed]",
            "text/plain": [
              "<Figure size 144x144 with 2 Axes>"
            ]
          },
          "metadata": {
            "tags": [],
            "needs_background": "light"
          }
        },
        {
          "output_type": "stream",
          "text": [
            "env: 1, label: 0.0\n"
          ],
          "name": "stdout"
        },
        {
          "output_type": "display_data",
          "data": {
            "image/png": "[encoded data removed]",
            "text/plain": [
              "<Figure size 144x144 with 2 Axes>"
            ]
          },
          "metadata": {
            "tags": [],
            "needs_background": "light"
          }
        },
        {
          "output_type": "stream",
          "text": [
            "env: 1, label: 0.0\n"
          ],
          "name": "stdout"
        },
        {
          "output_type": "display_data",
          "data": {
            "image/png": "[encoded data removed]",
            "text/plain": [
              "<Figure size 144x144 with 2 Axes>"
            ]
          },
          "metadata": {
            "tags": [],
            "needs_background": "light"
          }
        },
        {
          "output_type": "stream",
          "text": [
            "env: 1, label: 1.0\n"
          ],
          "name": "stdout"
        },
        {
          "output_type": "display_data",
          "data": {
            "image/png": "[encoded data removed]",
            "text/plain": [
              "<Figure size 144x144 with 2 Axes>"
            ]
          },
          "metadata": {
            "tags": [],
            "needs_background": "light"
          }
        },
        {
          "output_type": "stream",
          "text": [
            "env: 1, label: 0.0\n"
          ],
          "name": "stdout"
        },
        {
          "output_type": "display_data",
          "data": {
            "image/png": "[encoded data removed]",
            "text/plain": [
              "<Figure size 144x144 with 2 Axes>"
            ]
          },
          "metadata": {
            "tags": [],
            "needs_background": "light"
          }
        },
        {
          "output_type": "stream",
          "text": [
            "env: 1, label: 0.0\n"
          ],
          "name": "stdout"
        },
        {
          "output_type": "display_data",
          "data": {
            "image/png": "[encoded data removed]",
            "text/plain": [
              "<Figure size 144x144 with 2 Axes>"
            ]
          },
          "metadata": {
            "tags": [],
            "needs_background": "light"
          }
        },
        {
          "output_type": "stream",
          "text": [
            "env: 2, label: 1.0\n"
          ],
          "name": "stdout"
        },
        {
          "output_type": "display_data",
          "data": {
            "image/png": "[encoded data removed]",
            "text/plain": [
              "<Figure size 144x144 with 2 Axes>"
            ]
          },
          "metadata": {
            "tags": [],
            "needs_background": "light"
          }
        },
        {
          "output_type": "stream",
          "text": [
            "env: 3, label: 0.0\n"
          ],
          "name": "stdout"
        },
        {
          "output_type": "display_data",
          "data": {
            "image/png": "[encoded data removed]",
            "text/plain": [
              "<Figure size 144x144 with 2 Axes>"
            ]
          },
          "metadata": {
            "tags": [],
            "needs_background": "light"
          }
        },
        {
          "output_type": "stream",
          "text": [
            "env: 2, label: 1.0\n"
          ],
          "name": "stdout"
        },
        {
          "output_type": "display_data",
          "data": {
            "image/png": "[encoded data removed]",
            "text/plain": [
              "<Figure size 144x144 with 2 Axes>"
            ]
          },
          "metadata": {
            "tags": [],
            "needs_background": "light"
          }
        },
        {
          "output_type": "stream",
          "text": [
            "env: 3, label: 0.0\n"
          ],
          "name": "stdout"
        },
        {
          "output_type": "display_data",
          "data": {
            "image/png": "[encoded data removed]",
            "text/plain": [
              "<Figure size 144x144 with 2 Axes>"
            ]
          },
          "metadata": {
            "tags": [],
            "needs_background": "light"
          }
        },
        {
          "output_type": "stream",
          "text": [
            "env: 2, label: 0.0\n"
          ],
          "name": "stdout"
        },
        {
          "output_type": "display_data",
          "data": {
            "image/png": "[encoded data removed]",
            "text/plain": [
              "<Figure size 144x144 with 2 Axes>"
            ]
          },
          "metadata": {
            "tags": [],
            "needs_background": "light"
          }
        },
        {
          "output_type": "stream",
          "text": [
            "env: 3, label: 0.0\n"
          ],
          "name": "stdout"
        },
        {
          "output_type": "display_data",
          "data": {
            "image/png": "[encoded data removed]",
            "text/plain": [
              "<Figure size 144x144 with 2 Axes>"
            ]
          },
          "metadata": {
            "tags": [],
            "needs_background": "light"
          }
        },
        {
          "output_type": "stream",
          "text": [
            "env: 2, label: 1.0\n"
          ],
          "name": "stdout"
        },
        {
          "output_type": "display_data",
          "data": {
            "image/png": "[encoded data removed]",
            "text/plain": [
              "<Figure size 144x144 with 2 Axes>"
            ]
          },
          "metadata": {
            "tags": [],
            "needs_background": "light"
          }
        },
        {
          "output_type": "stream",
          "text": [
            "env: 3, label: 1.0\n"
          ],
          "name": "stdout"
        },
        {
          "output_type": "display_data",
          "data": {
            "image/png": "[encoded data removed]",
            "text/plain": [
              "<Figure size 144x144 with 2 Axes>"
            ]
          },
          "metadata": {
            "tags": [],
            "needs_background": "light"
          }
        },
        {
          "output_type": "stream",
          "text": [
            "env: 2, label: 0.0\n"
          ],
          "name": "stdout"
        },
        {
          "output_type": "display_data",
          "data": {
            "image/png": "[encoded data removed]",
            "text/plain": [
              "<Figure size 144x144 with 2 Axes>"
            ]
          },
          "metadata": {
            "tags": [],
            "needs_background": "light"
          }
        },
        {
          "output_type": "stream",
          "text": [
            "env: 3, label: 0.0\n"
          ],
          "name": "stdout"
        },
        {
          "output_type": "display_data",
          "data": {
            "image/png": "[encoded data removed]",
            "text/plain": [
              "<Figure size 144x144 with 2 Axes>"
            ]
          },
          "metadata": {
            "tags": [],
            "needs_background": "light"
          }
        },
        {
          "output_type": "stream",
          "text": [
            "env: 2, label: 1.0\n"
          ],
          "name": "stdout"
        },
        {
          "output_type": "display_data",
          "data": {
            "image/png": "[encoded data removed]",
            "text/plain": [
              "<Figure size 144x144 with 2 Axes>"
            ]
          },
          "metadata": {
            "tags": [],
            "needs_background": "light"
          }
        },
        {
          "output_type": "stream",
          "text": [
            "env: 3, label: 1.0\n"
          ],
          "name": "stdout"
        },
        {
          "output_type": "display_data",
          "data": {
            "image/png": "[encoded data removed]",
            "text/plain": [
              "<Figure size 144x144 with 2 Axes>"
            ]
          },
          "metadata": {
            "tags": [],
            "needs_background": "light"
          }
        },
        {
          "output_type": "stream",
          "text": [
            "env: 2, label: 0.0\n"
          ],
          "name": "stdout"
        },
        {
          "output_type": "display_data",
          "data": {
            "image/png": "[encoded data removed]",
            "text/plain": [
              "<Figure size 144x144 with 2 Axes>"
            ]
          },
          "metadata": {
            "tags": [],
            "needs_background": "light"
          }
        },
        {
          "output_type": "stream",
          "text": [
            "env: 3, label: 0.0\n"
          ],
          "name": "stdout"
        },
        {
          "output_type": "display_data",
          "data": {
            "image/png": "[encoded data removed]",
            "text/plain": [
              "<Figure size 144x144 with 2 Axes>"
            ]
          },
          "metadata": {
            "tags": [],
            "needs_background": "light"
          }
        },
        {
          "output_type": "stream",
          "text": [
            "env: 2, label: 1.0\n"
          ],
          "name": "stdout"
        },
        {
          "output_type": "display_data",
          "data": {
            "image/png": "[encoded data removed]",
            "text/plain": [
              "<Figure size 144x144 with 2 Axes>"
            ]
          },
          "metadata": {
            "tags": [],
            "needs_background": "light"
          }
        },
        {
          "output_type": "stream",
          "text": [
            "env: 3, label: 0.0\n"
          ],
          "name": "stdout"
        },
        {
          "output_type": "display_data",
          "data": {
            "image/png": "[encoded data removed]",
            "text/plain": [
              "<Figure size 144x144 with 2 Axes>"
            ]
          },
          "metadata": {
            "tags": [],
            "needs_background": "light"
          }
        },
        {
          "output_type": "stream",
          "text": [
            "env: 2, label: 0.0\n"
          ],
          "name": "stdout"
        },
        {
          "output_type": "display_data",
          "data": {
            "image/png": "[encoded data removed]",
            "text/plain": [
              "<Figure size 144x144 with 2 Axes>"
            ]
          },
          "metadata": {
            "tags": [],
            "needs_background": "light"
          }
        },
        {
          "output_type": "stream",
          "text": [
            "env: 3, label: 1.0\n"
          ],
          "name": "stdout"
        },
        {
          "output_type": "display_data",
          "data": {
            "image/png": "[encoded data removed]",
            "text/plain": [
              "<Figure size 144x144 with 2 Axes>"
            ]
          },
          "metadata": {
            "tags": [],
            "needs_background": "light"
          }
        },
        {
          "output_type": "stream",
          "text": [
            "env: 2, label: 1.0\n"
          ],
          "name": "stdout"
        },
        {
          "output_type": "display_data",
          "data": {
            "image/png": "[encoded data removed]",
            "text/plain": [
              "<Figure size 144x144 with 2 Axes>"
            ]
          },
          "metadata": {
            "tags": [],
            "needs_background": "light"
          }
        },
        {
          "output_type": "stream",
          "text": [
            "env: 3, label: 1.0\n"
          ],
          "name": "stdout"
        },
        {
          "output_type": "display_data",
          "data": {
            "image/png": "[encoded data removed]",
            "text/plain": [
              "<Figure size 144x144 with 2 Axes>"
            ]
          },
          "metadata": {
            "tags": [],
            "needs_background": "light"
          }
        }
      ]
    },
    {
      "cell_type": "code",
      "metadata": {
        "id": "UfAIaKgQaPsL",
        "colab_type": "code",
        "colab": {}
      },
      "source": [
        "\n",
        "# Define and instantiate the model\n",
        "\n",
        "class MLP(nn.Module):\n",
        "  def __init__(self):\n",
        "    super(MLP, self).__init__()\n",
        "    if flags.grayscale_model:\n",
        "      lin1 = nn.Linear(14 * 14, flags.hidden_dim)\n",
        "    else:\n",
        "      lin1 = nn.Linear(2 * 14 * 14, flags.hidden_dim)\n",
        "    lin2 = nn.Linear(flags.hidden_dim, flags.hidden_dim)\n",
        "    lin3 = nn.Linear(flags.hidden_dim, 1)\n",
        "    for lin in [lin1, lin2, lin3]:\n",
        "      nn.init.xavier_uniform_(lin.weight)\n",
        "      nn.init.zeros_(lin.bias)\n",
        "    self._main = nn.Sequential(lin1, nn.ReLU(True), lin2, nn.ReLU(True), lin3)\n",
        "  def forward(self, input):\n",
        "    if flags.grayscale_model:\n",
        "      out = input.view(input.shape[0], 2, 14 * 14).sum(dim=1)\n",
        "    else:\n",
        "      out = input.view(input.shape[0], 2 * 14 * 14)\n",
        "    out = self._main(out)\n",
        "    return out\n",
        "\n",
        "if use_cuda:\n",
        "  mlp = MLP().cuda()\n",
        "else:\n",
        "  mlp = MLP()"
      ],
      "execution_count": 0,
      "outputs": []
    },
    {
      "cell_type": "markdown",
      "metadata": {
        "id": "8b-yWtHFber2",
        "colab_type": "text"
      },
      "source": [
        "ここでは IRM のペナルティのみ定義．REx のペナルティは学習部分で"
      ]
    },
    {
      "cell_type": "code",
      "metadata": {
        "id": "tVqe0W4pbbZ1",
        "colab_type": "code",
        "colab": {}
      },
      "source": [
        "# Define loss function helpers\n",
        "\n",
        "def mean_nll(logits, y):\n",
        "  return nn.functional.binary_cross_entropy_with_logits(logits, y)\n",
        "\n",
        "def mean_accuracy(logits, y):\n",
        "  preds = (logits > 0.).float()\n",
        "  return ((preds - y).abs() < 1e-2).float().mean()\n",
        "\n",
        "def penalty(logits, y):\n",
        "  if use_cuda:\n",
        "    scale = torch.tensor(1.).cuda().requires_grad_()\n",
        "  else:\n",
        "    scale = torch.tensor(1.).requires_grad_()\n",
        "  loss = mean_nll(logits * scale, y)\n",
        "  grad = autograd.grad(loss, [scale], create_graph=True)[0]\n",
        "  return torch.sum(grad**2)"
      ],
      "execution_count": 0,
      "outputs": []
    },
    {
      "cell_type": "code",
      "metadata": {
        "id": "1ZqzKP-rbhY8",
        "colab_type": "code",
        "colab": {
          "base_uri": "https://localhost:8080/",
          "height": 139
        },
        "outputId": "f626f277-5b8a-4bdf-eb8f-c4cb81c1afba"
      },
      "source": [
        "# Train loop\n",
        "def pretty_print(*values):\n",
        "  col_width = 13\n",
        "  def format_val(v):\n",
        "    if not isinstance(v, str):\n",
        "      v = np.array2string(v, precision=5, floatmode='fixed')\n",
        "    return v.ljust(col_width)\n",
        "  str_values = [format_val(v) for v in values]\n",
        "  print(\"   \".join(str_values))\n",
        "\n",
        "optimizer = optim.Adam(mlp.parameters(), lr=flags.lr)\n",
        "\n",
        "pretty_print('step', 'train nll', 'train acc', 'rex penalty', 'irmv1 penalty', 'test acc')\n",
        "\n",
        "i = 0\n",
        "for step in range(flags.steps):\n",
        "  n = i % num_batches\n",
        "  for edx, env in enumerate(envs):\n",
        "    if edx != len(envs) - 2:\n",
        "      logits = mlp(env['images'][n*flags.batch_size:(n+1)*flags.batch_size])\n",
        "      env['nll'] = mean_nll(logits, env['labels'][n*flags.batch_size:(n+1)*flags.batch_size])\n",
        "      env['acc'] = mean_accuracy(logits, env['labels'][n*flags.batch_size:(n+1)*flags.batch_size])\n",
        "      env['penalty'] = penalty(logits, env['labels'][n*flags.batch_size:(n+1)*flags.batch_size])\n",
        "    else:\n",
        "      # validation data に対してはこちら\n",
        "      logits = mlp(env['images'])\n",
        "      env['nll'] = mean_nll(logits, env['labels'])\n",
        "      env['acc'] = mean_accuracy(logits, env['labels'])\n",
        "      env['penalty'] = penalty(logits, env['labels'])\n",
        "  i+=1\n",
        "\n",
        "  # training data は envs[0] と envs[1]\n",
        "  train_nll = torch.stack([envs[0]['nll'], envs[1]['nll']]).mean()\n",
        "  train_acc = torch.stack([envs[0]['acc'], envs[1]['acc']]).mean()\n",
        "  irmv1_penalty = torch.stack([envs[0]['penalty'], envs[1]['penalty']]).mean()\n",
        "\n",
        "  if use_cuda:\n",
        "    weight_norm = torch.tensor(0.).cuda()\n",
        "  else:\n",
        "    weight_norm = torch.tensor(0.)\n",
        "  for w in mlp.parameters():\n",
        "    weight_norm += w.norm().pow(2)\n",
        "\n",
        "  loss1 = envs[0]['nll']\n",
        "  loss2 = envs[1]['nll']\n",
        "\n",
        "  if flags.early_loss_mean:\n",
        "    loss1 = loss1.mean()\n",
        "    loss2 = loss2.mean()\n",
        "\n",
        "  loss = 0.0\n",
        "  loss += flags.erm_amount * (loss1 + loss2)          # Loss の第一項: ERM term\n",
        "\n",
        "  loss += flags.l2_regularizer_weight * weight_norm   # Loss の第二項：weight regularization\n",
        "\n",
        "  penalty_weight = (flags.penalty_weight              # penalty 項は最初はすごく小さく途中から大きくする\n",
        "    if step >= flags.penalty_anneal_iters else 1.0)   # この重みは IRM/MinREx/VarREx 共通\n",
        "\n",
        "  if flags.mse:\n",
        "    rex_penalty = (loss1.mean() - loss2.mean()) ** 2  # Minimax REx\n",
        "  else:\n",
        "    rex_penalty = (loss1.mean() - loss2.mean()).abs() # Variance REx\n",
        "\n",
        "  if flags.rex:\n",
        "    loss += penalty_weight * rex_penalty\n",
        "  else:\n",
        "    loss += penalty_weight * irmv1_penalty\n",
        "\n",
        "  if penalty_weight > 1.0:                            # penalty weight >=1 なので if がなくても同じ\n",
        "    # Rescale the entire loss to keep gradients in a reasonable range\n",
        "    loss /= penalty_weight\n",
        "\n",
        "  optimizer.zero_grad()\n",
        "  loss.backward()\n",
        "  optimizer.step()\n",
        "  \n",
        "  test_acc = envs[2]['acc']\n",
        "  grayscale_test_acc = envs[3]['acc']\n",
        "\n",
        "  # 以下はただ記録を保持するだけ\n",
        "  if step % flags.eval_interval == 0:\n",
        "    train_acc_scalar = train_acc.detach().cpu().numpy()\n",
        "    test_acc_scalar = test_acc.detach().cpu().numpy()\n",
        "    if flags.print_eval_intervals:\n",
        "      # ここで print する\n",
        "      pretty_print(\n",
        "        np.int32(step),\n",
        "        train_nll.detach().cpu().numpy(),\n",
        "        train_acc.detach().cpu().numpy(),\n",
        "        rex_penalty.detach().cpu().numpy(),\n",
        "        irmv1_penalty.detach().cpu().numpy(),\n",
        "        test_acc.detach().cpu().numpy()\n",
        "      )\n",
        "    if (train_acc_scalar >= test_acc_scalar) and (test_acc_scalar > highest_test_acc):\n",
        "      highest_test_acc = test_acc_scalar\n",
        "\n",
        "  if flags.plot or flags.save_numpy_log:\n",
        "    all_train_nlls[restart, step] = train_nll.detach().cpu().numpy()\n",
        "    all_train_accs[restart, step] = train_acc.detach().cpu().numpy()\n",
        "    all_rex_penalties[restart, step] = rex_penalty.detach().cpu().numpy()\n",
        "    all_irmv1_penalties[restart, step] = irmv1_penalty.detach().cpu().numpy()\n",
        "    all_test_accs[restart, step] = test_acc.detach().cpu().numpy()\n",
        "    all_grayscale_test_accs[restart, step] = grayscale_test_acc.detach().cpu().numpy()\n"
      ],
      "execution_count": 27,
      "outputs": [
        {
          "output_type": "stream",
          "text": [
            "step            train nll       train acc       rex penalty     irmv1 penalty   test acc     \n",
            "0               0.71361         0.37666         2.35500e-05     0.00049         0.62790      \n",
            "100             0.36091         0.85544         0.01661         0.00425         0.10860      \n",
            "200             0.58628         0.70328         6.50800e-10     0.00128         0.69100      \n",
            "300             0.58275         0.70636         1.40471e-07     0.00145         0.68860      \n",
            "400             0.58035         0.70930         1.35774e-07     0.00154         0.68640      \n",
            "500             0.57777         0.71160         1.33413e-07     0.00164         0.68450      \n"
          ],
          "name": "stdout"
        }
      ]
    },
    {
      "cell_type": "code",
      "metadata": {
        "id": "edEqMh-kbhKU",
        "colab_type": "code",
        "colab": {}
      },
      "source": [
        ""
      ],
      "execution_count": 0,
      "outputs": []
    },
    {
      "cell_type": "code",
      "metadata": {
        "id": "MLSMClLMcZkw",
        "colab_type": "code",
        "colab": {}
      },
      "source": [
        ""
      ],
      "execution_count": 0,
      "outputs": []
    }
  ]
}